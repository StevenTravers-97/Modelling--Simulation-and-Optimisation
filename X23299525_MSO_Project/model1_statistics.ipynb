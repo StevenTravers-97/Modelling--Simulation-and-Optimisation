{
 "cells": [
  {
   "cell_type": "code",
   "execution_count": null,
   "metadata": {},
   "outputs": [],
   "source": []
  },
  {
   "cell_type": "markdown",
   "metadata": {},
   "source": [
    "# Model 1 A & B"
   ]
  },
  {
   "cell_type": "markdown",
   "metadata": {},
   "source": [
    "The following code is the code to generate model 1 A and B. I have split the code into 2 parts to make it easier to follow: \n",
    "\n",
    "1. Code from class, largely unchanged sections of code produced by the lecturer.\n",
    "2. Model code to generate model and statistics. "
   ]
  },
  {
   "cell_type": "markdown",
   "metadata": {},
   "source": [
    "# Code from Class"
   ]
  },
  {
   "cell_type": "markdown",
   "metadata": {},
   "source": [
    "## Import Libraries"
   ]
  },
  {
   "cell_type": "code",
   "execution_count": 2,
   "metadata": {},
   "outputs": [],
   "source": [
    "import matplotlib.pyplot as plt\n",
    "import matplotlib as mpl\n",
    "import math\n",
    "import random\n",
    "import numpy as np\n",
    "import pulp\n",
    "import pickle\n",
    "from statistics import median\n",
    "import statistics\n",
    "import scipy.stats as stats\n",
    "import time\n",
    "import simpy\n",
    "import pandas as pd\n",
    "our_seed = 9525\n",
    "timelimit_st=120"
   ]
  },
  {
   "cell_type": "code",
   "execution_count": 3,
   "metadata": {},
   "outputs": [],
   "source": [
    "def dist(p1, p2):\n",
    "    (x1, y1) = p1\n",
    "    (x2, y2) = p2\n",
    "    return int(math.sqrt((x1-x2)**2+(y1-y2)**2))\n",
    "\n",
    "def nearest(X, P):\n",
    "    minD = math.inf\n",
    "    minP = None\n",
    "    for p in P:\n",
    "        for x in X:\n",
    "            d=dist(x, p)\n",
    "            if d<minD:\n",
    "                minX, minP, minD = x, p, d\n",
    "    return minX, minP  "
   ]
  },
  {
   "cell_type": "markdown",
   "metadata": {},
   "source": [
    "## Code to generate graphs"
   ]
  },
  {
   "cell_type": "code",
   "execution_count": 4,
   "metadata": {},
   "outputs": [],
   "source": [
    "def generateRandomGraph(n, r):\n",
    "\n",
    "    def rounding(x):\n",
    "        return int(math.floor(x/10))*10\n",
    "\n",
    "    r = rounding(r)\n",
    "    x0 = r\n",
    "    y0 = r\n",
    "    gridsize = rounding(r / math.sqrt(n) * 1.4)\n",
    "    r = r//gridsize*gridsize\n",
    "    split = 2*r//gridsize+1\n",
    "    X = np.linspace(x0-r, x0+r, split)\n",
    "    Y = np.linspace(y0-r, y0+r, split)\n",
    "    P = [ (int(x), int(y)) for x in X for y in Y if dist((x,y), (x0,y0)) <= r*1.2 ]\n",
    "    P = random.sample(P, k=n)\n",
    "    \n",
    "    E = []\n",
    "    \n",
    "    def addEdge(p, q):\n",
    "        if p in P and q in P and (p, q) not in E and (q, p) not in E:\n",
    "            E.append((p, q))\n",
    "    def addDiagonalEdge(p, q):\n",
    "        (xp, yp) = p\n",
    "        (xq, yq) = q\n",
    "        if p in P and q in P and (xp, yq) not in P and (xq, yp) not in P and (p, q) not in E and (q, p) not in E:\n",
    "            E.append((p, q))\n",
    "            \n",
    "    for (x, y) in P:\n",
    "        addEdge( (x, y), (x, y+gridsize) )\n",
    "        addEdge( (x, y), (x, y-gridsize) )\n",
    "        addEdge( (x, y), (x+gridsize, y) )\n",
    "        addEdge( (x, y), (x-gridsize, y) )\n",
    "        addDiagonalEdge( (x, y), (x+gridsize, y+gridsize) )\n",
    "        addDiagonalEdge( (x, y), (x+gridsize, y-gridsize) )\n",
    "        addDiagonalEdge( (x, y), (x-gridsize, y+gridsize) )\n",
    "        addDiagonalEdge( (x, y), (x-gridsize, y-gridsize) )\n",
    "        \n",
    "    return sorted(P), sorted(E)"
   ]
  },
  {
   "cell_type": "code",
   "execution_count": 5,
   "metadata": {},
   "outputs": [],
   "source": [
    "def plotGraph(P, E,location=None, col='b', grid=False,):\n",
    "    fig = plt.gcf()\n",
    "    fig.set_size_inches(6, 6)\n",
    "    if not grid:\n",
    "        plt.axis('off')\n",
    "    plt.plot( [ p[0] for p in P ], [ p[1] for p in P ], col+'o', lw=1, ms=3)\n",
    "    for (p, q) in E:\n",
    "        plt.plot( [ p[0], q[0] ], [ p[1], q[1] ], col+'-o', lw=1, ms=3)\n",
    "    if grid:\n",
    "        plt.grid()\n",
    "    "
   ]
  },
  {
   "cell_type": "markdown",
   "metadata": {},
   "source": [
    "## Testing Graph"
   ]
  },
  {
   "cell_type": "code",
   "execution_count": 6,
   "metadata": {},
   "outputs": [
    {
     "data": {
      "image/png": "[encoded data removed]",
      "text/plain": [
       "<Figure size 600x600 with 1 Axes>"
      ]
     },
     "metadata": {},
     "output_type": "display_data"
    }
   ],
   "source": [
    "random.seed(our_seed)\n",
    "V, E = generateRandomGraph(100, 4500)\n",
    "disconnected_plot = plotGraph(V, E)\n"
   ]
  },
  {
   "cell_type": "markdown",
   "metadata": {},
   "source": [
    "Since the figure above has nodes that are not connected to the rest of the nodes, these are called sub-graphs. For this project, there must be no sub-graphs. This would lead to the possibility of houses being in subgraphs with no access for the delivery driver."
   ]
  },
  {
   "cell_type": "code",
   "execution_count": 7,
   "metadata": {},
   "outputs": [],
   "source": [
    "def subgraph(P, E):\n",
    "    P = P.copy()\n",
    "    E = E.copy()\n",
    "    PP = [ P[0] ] \n",
    "    EE = []\n",
    "    P = P[1:]\n",
    "    extended = True\n",
    "    while extended:\n",
    "        extended = False\n",
    "        for (a, b) in E:\n",
    "            if a in PP and b in P:\n",
    "                PP.append(b)\n",
    "                P.remove(b)\n",
    "                EE.append((a, b))\n",
    "                E.remove((a, b))\n",
    "                extended = True\n",
    "                break\n",
    "            if a in P and b in PP:\n",
    "                PP.append(a)\n",
    "                P.remove(a)\n",
    "                EE.append((a, b))\n",
    "                E.remove((a, b))\n",
    "                extended = True\n",
    "                break\n",
    "            if a in PP and b in PP:\n",
    "                EE.append((a, b))\n",
    "                E.remove((a, b))\n",
    "                extended = True\n",
    "                break\n",
    "    return PP, EE, P, E    "
   ]
  },
  {
   "cell_type": "markdown",
   "metadata": {},
   "source": [
    "## Lists and Paths"
   ]
  },
  {
   "cell_type": "code",
   "execution_count": 8,
   "metadata": {},
   "outputs": [],
   "source": [
    "def pathLength(P):\n",
    "    return 0 if len(P)<=1 else \\\n",
    "            dist(P[0], P[1])+pathLength(P[1:])"
   ]
  },
  {
   "cell_type": "code",
   "execution_count": 9,
   "metadata": {},
   "outputs": [],
   "source": [
    "def reverse(P):\n",
    "    return [ P[-i] for i in range(1,len(P)+1) ]"
   ]
  },
  {
   "cell_type": "code",
   "execution_count": 10,
   "metadata": {},
   "outputs": [],
   "source": [
    "def index(x, L):\n",
    "    for i in range(len(L)):\n",
    "        if x==L[i]: \n",
    "            return i\n",
    "    return None"
   ]
  },
  {
   "cell_type": "code",
   "execution_count": 11,
   "metadata": {},
   "outputs": [],
   "source": [
    "def addWithoutDuplicates(L, X):\n",
    "    for i in range(len(X)):\n",
    "        if X[i] not in L:\n",
    "            L.append(X[i])\n",
    "    return L"
   ]
  },
  {
   "cell_type": "code",
   "execution_count": 12,
   "metadata": {},
   "outputs": [],
   "source": [
    "def totalLength(edges):\n",
    "    return sum([ dist(A, B) for A,B in edges ])"
   ]
  },
  {
   "cell_type": "markdown",
   "metadata": {},
   "source": [
    "## Generate Customer Data"
   ]
  },
  {
   "cell_type": "code",
   "execution_count": 13,
   "metadata": {},
   "outputs": [],
   "source": [
    "def splitEdgeRandomly(V, E, s):\n",
    "    A, B = s\n",
    "    p = random.uniform(0.3,0.7)\n",
    "    x = int(A[0]+p*(B[0]-A[0]))\n",
    "    y = int(A[1]+p*(B[1]-A[1]))\n",
    "    t = (x,y)\n",
    "    E.remove(s) \n",
    "    E.append((A, t))\n",
    "    E.append((t, B))\n",
    "    V.append(t)\n",
    "    return (V, E), t"
   ]
  },
  {
   "cell_type": "code",
   "execution_count": 14,
   "metadata": {},
   "outputs": [],
   "source": [
    "def generateRandomTargets(M, n=5):\n",
    "    V, E = M\n",
    "    V, E = V.copy(), E.copy()\n",
    "    T = []\n",
    "    # we want to ensure that the beginning of the \n",
    "    # sequence of points generated randomly stays\n",
    "    # the same\n",
    "    mindist = 200\n",
    "    while len(T)<n:\n",
    "        s = random.choice(E)\n",
    "        A, B = s\n",
    "        if dist(A,B)>mindist: # avoid targets placed narrowly\n",
    "            (V, E), t = splitEdgeRandomly(V, E, s)\n",
    "            T.append(t)\n",
    "    return sorted(T)"
   ]
  },
  {
   "cell_type": "code",
   "execution_count": 15,
   "metadata": {},
   "outputs": [],
   "source": [
    "def addTargets(M, T):\n",
    "    V, E = M\n",
    "    E = E.copy()\n",
    "    V = V.copy()\n",
    "    for t in T:\n",
    "        minD = math.inf\n",
    "        minE = None\n",
    "        for e in E:\n",
    "            P, Q = e\n",
    "            distT = dist(P, t)+dist(t, Q)-dist(P, Q)\n",
    "            if distT < minD:\n",
    "                minD = distT\n",
    "                minE = e\n",
    "        P, Q = minE\n",
    "        E.remove( (P, Q) )\n",
    "        E.append( (P, t) )\n",
    "        E.append( (t, Q) )\n",
    "        V.append(t)\n",
    "    return V, E"
   ]
  },
  {
   "cell_type": "markdown",
   "metadata": {},
   "source": [
    "## Plot Map With Delivery Route"
   ]
  },
  {
   "cell_type": "code",
   "execution_count": 16,
   "metadata": {},
   "outputs": [],
   "source": [
    "def label(i):\n",
    "    return (label(i//26-1)+chr(65+i%26)) if i>25 else chr(65+i)"
   ]
  },
  {
   "cell_type": "code",
   "execution_count": 17,
   "metadata": {},
   "outputs": [],
   "source": [
    "def plotMap(G, T=[], P=[], w=None, frame=None,\n",
    "            style='r-o', lw=1, ms=3, \n",
    "            styleT='go', msT=3,\n",
    "            styleP='b-o', lwP=2, msP=3,\n",
    "            stylePT='go', msPT=7,\n",
    "            styleW='ro', msW=9,\n",
    "            text=None, grid=False, labels=False, \n",
    "            size=4, scale=False):\n",
    "\n",
    "\n",
    "    def round_down(x, level): return (x//level)*level\n",
    "    def round_up(x, level): return (x//level+1)*level\n",
    "\n",
    "    if frame is not None:\n",
    "        V, E = frame\n",
    "    else:\n",
    "        V, E = G\n",
    "        \n",
    "    xmin = round_down(min([ x for (x, _) in V ]), 100)\n",
    "    xmax = round_up(max([ x for (x, _) in V ]), 100)\n",
    "    ymin = round_down(min([ y for (_, y) in V ]), 100)\n",
    "    ymax = round_up(max([ y for (_, y) in V ]), 100)\n",
    "    dx = xmax-xmin\n",
    "    dy = ymax-ymin\n",
    "    yoffset = (ymax-ymin)//10\n",
    "    xoffset = (xmax-xmin)//20\n",
    "\n",
    "    V, E = G\n",
    "\n",
    "    fig = plt.gcf()\n",
    "    fig.set_size_inches(size, size)\n",
    "    plt.xlim(xmin-xoffset, xmax+xoffset)\n",
    "    plt.ylim(ymin-yoffset, ymax+yoffset)\n",
    "    \n",
    "    if not grid:\n",
    "        plt.axis('off')\n",
    "\n",
    "    if frame is not None:\n",
    "        for e in frame[1]:\n",
    "            if e not in E:\n",
    "                p1, p2 = e\n",
    "                plt.plot( [ p1[0], p2[0] ],  [ p1[1], p2[1] ], \n",
    "                          'k-', lw=0.5, ms=2)\n",
    "            \n",
    "    for e in E:\n",
    "        p1, p2 = e\n",
    "        plt.plot( [ p1[0], p2[0] ],\n",
    "                  [ p1[1], p2[1] ], \n",
    "                  style, lw=lw, ms=ms)\n",
    "    if scale:\n",
    "        # plot 1000m scale\n",
    "        ybar = ymin-0.9*yoffset\n",
    "        D = [ (xmin, ybar+50), (xmin, ybar), (xmin+1000, ybar), (xmin+1000, ybar+50) ]\n",
    "        plt.plot( [ d[0] for d in D ], [ d[1] for d in D ], 'k-', lw=0.5)\n",
    "        plt.text(xmin+500, ymin-0.7*yoffset, '1000m' , horizontalalignment='center', size=8)\n",
    "    \n",
    "    if labels:\n",
    "        for i in range(len(V)):\n",
    "            x, y = V[i]\n",
    "            plt.text(x+0.0150*dx, y-0.0350*dy, label(i), size=8)\n",
    "        \n",
    "    for t in T:\n",
    "        plt.plot( [ t[0] ], [ t[1] ], \n",
    "                  styleT, ms=msT)\n",
    "        \n",
    "    plt.plot( [ p[0] for p in P ],\n",
    "              [ p[1] for p in P ], \n",
    "              styleP, lw=lwP, ms=msP)\n",
    "    \n",
    "    for p in P:\n",
    "        if p in T:\n",
    "            plt.plot( [ p[0] ], [ p[1] ], \n",
    "                      stylePT, ms=msPT)\n",
    "    if w is not None:\n",
    "        plt.plot( [ w[0] ], [ w[1] ], \n",
    "                      styleW, ms=msW)\n",
    "    if text is not None:\n",
    "        plt.text(xmax, ymin-0.9*yoffset, text, horizontalalignment='right', size=8)\n",
    "    if grid:\n",
    "        plt.grid()\n",
    "    plt.show()"
   ]
  },
  {
   "cell_type": "code",
   "execution_count": 18,
   "metadata": {},
   "outputs": [],
   "source": [
    "def generateGraph(n, r):\n",
    "    P, E = generateRandomGraph(n, r)\n",
    "    P0, _, P1, _ = subgraph(P, E)\n",
    "    while len(P1)>0:\n",
    "        (p, q) = nearest(P0, P1)\n",
    "        E.append((p, q))\n",
    "        P0, _, P1, _ = subgraph(P, E)\n",
    "    return P, E"
   ]
  },
  {
   "cell_type": "markdown",
   "metadata": {},
   "source": [
    "## Generate Data"
   ]
  },
  {
   "cell_type": "markdown",
   "metadata": {},
   "source": [
    "generateData is a function that takes in the seed value (student number), a number of nodes, customers, a plot value, if you would like the data plotted & a log value - if you would like to know it was successful"
   ]
  },
  {
   "cell_type": "code",
   "execution_count": 19,
   "metadata": {},
   "outputs": [],
   "source": [
    "def generateData(seed=None, nodes=35, customers=100, \n",
    "                 plot=False, log=False):\n",
    "\n",
    "    if seed is None:\n",
    "\n",
    "        print(\"Usage:  M, C = generateData(seed=None, \")\n",
    "        print(\"                            nodes=35, customers=100, \")\n",
    "        print(\"                            plot=False, log=False)\")\n",
    "        print(\"\")\n",
    "        print(\"  seed  the seed value to be used for data generation. \")\n",
    "        print(\"        To test the application use seed=0, it will create\")\n",
    "        print(\"        a small map, with a very few customer locations.\")\n",
    "        print(\"\")\n",
    "        print(\"  nodes the number of intersections (nodes, vertices) in the generated map\")\n",
    "        print(\"\")\n",
    "        print(\"  customers  the number of customers generated on the map\")\n",
    "        print(\"\")\n",
    "        print(\"  log   Controls print output during data generation.\")\n",
    "        print(\"\")\n",
    "        print(\"  plot  Controls graphical output during data generation.\")\n",
    "        print(\"\")\n",
    "        print(\"Returns:\")\n",
    "        print(\"\")\n",
    "        print(\"  M = (V, E) is the generated map given as a graph\")\n",
    "        print(\"    where V is a list of vertices, with each vertice \")\n",
    "        print(\"    given as a pair (x, y) of integer coordinates, \")\n",
    "        print(\"    and E is a list of edges, with each edge given\")\n",
    "        print(\"    as a pair (A, B) of vertices, with each vertex again\")\n",
    "        print(\"    given as a pair (x, y) of integer coordinates\")\n",
    "        print(\"\")\n",
    "        print(\"  C is a list of customer locations\")\n",
    "        print(\"    given as pairs (x, y) of integer coordinates on or near\")\n",
    "        print(\"    existing edges E. To integrate a set of customer locations\")\n",
    "        print(\"    into a given map M = (V, E), use addTarget(M, C)\")\n",
    "        print(\"\")\n",
    "        \n",
    "        seed = 0\n",
    "    \n",
    "    if seed==0:          # generate very simple test data \n",
    "        nodes = 20       # number of points in map\n",
    "        customers = 5    # number of  customers\n",
    "        grid = True\n",
    "        scale = False\n",
    "            \n",
    "    else:\n",
    "        grid = False\n",
    "        scale = True\n",
    "        \n",
    "    random.seed(seed)\n",
    "    \n",
    "    M = generateGraph(nodes, 4500)\n",
    "    \n",
    "    C = generateRandomTargets(M, customers)\n",
    "    \n",
    "    if log:\n",
    "        print(f\"Generated map with {nodes:d} nodes and \" \n",
    "              f\"{customers:d} customer locations\")\n",
    "    if plot:\n",
    "        label=\"\" if seed==0 else f\"seed={seed:4d}\"\n",
    "        plotMap(M, T=C, scale=scale, text=label, grid=grid)\n",
    "    \n",
    "    return M, C"
   ]
  },
  {
   "cell_type": "markdown",
   "metadata": {},
   "source": [
    "Now that the data can be generated, a quick test can be done to ensure we have replicable results. "
   ]
  },
  {
   "cell_type": "code",
   "execution_count": 20,
   "metadata": {},
   "outputs": [
    {
     "data": {
      "text/plain": [
       "True"
      ]
     },
     "execution_count": 20,
     "metadata": {},
     "output_type": "execute_result"
    }
   ],
   "source": [
    "D1 = generateData(our_seed)\n",
    "D2 = generateData(our_seed)\n",
    "D1 == D2"
   ]
  },
  {
   "cell_type": "markdown",
   "metadata": {},
   "source": [
    "## Generate Central Warehouse Location"
   ]
  },
  {
   "cell_type": "code",
   "execution_count": 21,
   "metadata": {},
   "outputs": [],
   "source": [
    "from statistics import median\n",
    "\n",
    "def generateWarehouseLocation(M):\n",
    "    V, _ = M\n",
    "    xc = median([ x for (x, y) in V ])\n",
    "    yc = median([ y for (x, y) in V ])\n",
    "    cloc = (xc, yc)\n",
    "    minloc = V[0]\n",
    "    mindist = dist(minloc, cloc)\n",
    "    for i in range(1, len(V)):\n",
    "        d = dist(V[i], cloc)\n",
    "        if d<mindist:\n",
    "            minloc = V[i]\n",
    "            mindist = dist(V[i], cloc)\n",
    "    return minloc"
   ]
  },
  {
   "cell_type": "code",
   "execution_count": 22,
   "metadata": {},
   "outputs": [],
   "source": [
    "def generateMultipleWarehouseLocations(M, N=5):\n",
    "    C = generateWarehouseLocation(M)\n",
    "    V, _ = M\n",
    "    distances = [ (i, pathLength(shortestPath(M, V[i], C))) for i in range(len(V)) ]\n",
    "    faraway = sorted(distances, key=lambda x: x[1], reverse=True)\n",
    "    index = [ i*(len(faraway)-1)//(N-1) for i in range(N)]\n",
    "    locations = [ V[faraway[i][0]] for i in index ]\n",
    "    return locations"
   ]
  },
  {
   "cell_type": "markdown",
   "metadata": {},
   "source": [
    "## Generate Project Map and Customers"
   ]
  },
  {
   "cell_type": "markdown",
   "metadata": {},
   "source": [
    "In thie project, there are 3 data files/ Maps used. These files are:\n",
    "\n",
    "1. SimpleData - A map with seed = 0, this contains 20 nodes and 5 customers and is very basic. The purpose is mainly to quickly test functions and ideas with very minimal run times.\n",
    "\n",
    "2. TestData - A map where the seed is final 4 digits of student number.  This is a replica of the final (actual) data used int his project with the difference coming from the number of customers. In this data there are only 20 customers. Simlations can be very resource intensive and can have very long run times. For this reason, 20 customers were used. This allows testing of different paths and parameters without the long run times.\n",
    "\n",
    "3. ProjectData - This is the same map as generated in file 2, except there are now the full 100 customers as requested in the project brief. This data will be used to show statistical analysis for the project report."
   ]
  },
  {
   "cell_type": "markdown",
   "metadata": {},
   "source": [
    "## Generate Simple Data"
   ]
  },
  {
   "cell_type": "markdown",
   "metadata": {},
   "source": [
    " M = Map\n",
    " C = Customers\n",
    " seed = 0, In the generate data function there is an if statement to catch the special case of seed = 0\n",
    " This reduces nodes, customers and will provide a simplified map."
   ]
  },
  {
   "cell_type": "code",
   "execution_count": 23,
   "metadata": {},
   "outputs": [],
   "source": [
    "simpleData = generateData(seed=0)\n",
    "import pickle\n",
    "with open('datafolder/simpleData.pickled', 'wb') as f:\n",
    "    pickle.dump(simpleData, f)"
   ]
  },
  {
   "cell_type": "markdown",
   "metadata": {},
   "source": [
    "## Generate Test Data"
   ]
  },
  {
   "cell_type": "code",
   "execution_count": 24,
   "metadata": {},
   "outputs": [],
   "source": [
    "testData = generateData(seed=our_seed,customers=20)\n",
    "# Our seed was initialised as 9525 - Last 4 digits of student number\n",
    "import pickle\n",
    "with open('datafolder/testData.pickled', 'wb') as f:\n",
    "    pickle.dump(testData, f)"
   ]
  },
  {
   "cell_type": "code",
   "execution_count": 25,
   "metadata": {},
   "outputs": [],
   "source": [
    "import pickle\n",
    "with open('datafolder/testData.pickled', 'rb') as f:\n",
    "    MS, CS = pickle.load(f)"
   ]
  },
  {
   "cell_type": "code",
   "execution_count": 26,
   "metadata": {},
   "outputs": [],
   "source": [
    "WS = generateWarehouseLocation(MS)"
   ]
  },
  {
   "cell_type": "code",
   "execution_count": 27,
   "metadata": {},
   "outputs": [
    {
     "data": {
      "image/png": "[encoded data removed]",
      "text/plain": [
       "<Figure size 400x400 with 1 Axes>"
      ]
     },
     "metadata": {},
     "output_type": "display_data"
    }
   ],
   "source": [
    "plotMap(MS, T=CS, w=WS, scale=True)"
   ]
  },
  {
   "cell_type": "markdown",
   "metadata": {},
   "source": [
    "## Generate Project Data"
   ]
  },
  {
   "cell_type": "code",
   "execution_count": 28,
   "metadata": {},
   "outputs": [],
   "source": [
    "import pickle\n",
    "with open('datafolder/ProjectData.pickled', 'rb') as f:\n",
    "    MS, CS = pickle.load(f)"
   ]
  },
  {
   "cell_type": "code",
   "execution_count": 29,
   "metadata": {},
   "outputs": [],
   "source": [
    "WS = generateWarehouseLocation(MS)"
   ]
  },
  {
   "cell_type": "code",
   "execution_count": 30,
   "metadata": {},
   "outputs": [
    {
     "data": {
      "image/png": "[encoded data removed]",
      "text/plain": [
       "<Figure size 400x400 with 1 Axes>"
      ]
     },
     "metadata": {},
     "output_type": "display_data"
    }
   ],
   "source": [
    "plotMap(MS, T=CS, w=WS, scale=True)"
   ]
  },
  {
   "cell_type": "code",
   "execution_count": 31,
   "metadata": {},
   "outputs": [],
   "source": [
    "projectData = generateData(seed=our_seed)\n",
    "# Our seed was initialised as 9525 - Last 4 digits of student number\n",
    "import pickle\n",
    "with open('datafolder/projectData.pickled', 'wb') as f:\n",
    "    pickle.dump(projectData, f)"
   ]
  },
  {
   "cell_type": "markdown",
   "metadata": {},
   "source": [
    "## Time Handling"
   ]
  },
  {
   "cell_type": "markdown",
   "metadata": {},
   "source": [
    "**Convention:** In this project we measure simulation time in seconds. The simulation will start at 0:00. Time related methods will be added as they are needed."
   ]
  },
  {
   "cell_type": "markdown",
   "metadata": {},
   "source": [
    "`timestamp(t)` generates a timestamp string in the form `[dd] hh:mm:ss.d`"
   ]
  },
  {
   "cell_type": "code",
   "execution_count": 32,
   "metadata": {},
   "outputs": [],
   "source": [
    "def timestamp(t):\n",
    "    t = round(t, 1)\n",
    "    day = int(t)//(24*3600)\n",
    "    t = t - day*24*3600\n",
    "    hour = int(t)//3600\n",
    "    t = t - hour*3600\n",
    "    mins = int(t)//60\n",
    "    t = t - mins*60\n",
    "    secs = int(t)\n",
    "    t = int(round((t-secs)*10,1)) \n",
    "    return f\"[{day:2d}] {hour:02d}:{mins:02d}:{secs:02d}.{t:1d}\""
   ]
  },
  {
   "cell_type": "code",
   "execution_count": 33,
   "metadata": {},
   "outputs": [
    {
     "data": {
      "text/plain": [
       "'[ 3] 17:10:15.1'"
      ]
     },
     "execution_count": 33,
     "metadata": {},
     "output_type": "execute_result"
    }
   ],
   "source": [
    "timestamp(24*3600*3+17*3600+615.1)"
   ]
  },
  {
   "cell_type": "code",
   "execution_count": 34,
   "metadata": {},
   "outputs": [
    {
     "data": {
      "text/plain": [
       "'[12] 03:02:02.1'"
      ]
     },
     "execution_count": 34,
     "metadata": {},
     "output_type": "execute_result"
    }
   ],
   "source": [
    "timestamp(24*3600*12+3*3600+122.1)"
   ]
  },
  {
   "cell_type": "code",
   "execution_count": 35,
   "metadata": {},
   "outputs": [],
   "source": [
    "def day(now):\n",
    "    return int(now//(24*3600))"
   ]
  },
  {
   "cell_type": "code",
   "execution_count": 36,
   "metadata": {},
   "outputs": [],
   "source": [
    "def nextHour(env, hour):\n",
    "    beginningOfDay = int(env.now//(24*3600))*24*3600\n",
    "    timeOfDay = env.now-beginningOfDay\n",
    "    if hour*3600 > timeOfDay:\n",
    "        return hour*3600 - timeOfDay\n",
    "    else:\n",
    "        return hour*3600 + 24*3600 - timeOfDay"
   ]
  },
  {
   "cell_type": "markdown",
   "metadata": {},
   "source": [
    "## Plotting Routines"
   ]
  },
  {
   "cell_type": "code",
   "execution_count": 37,
   "metadata": {},
   "outputs": [],
   "source": [
    "import scipy.stats as stats\n",
    "\n",
    "def histPlot(data, title=\"\", xlabel=\"\",\n",
    "             discrete=False, width=None, height=None):\n",
    "    \n",
    "    minx = min(data)\n",
    "    maxx = max(data)\n",
    "    μ = np.mean(data)\n",
    "    σ = np.std(data)\n",
    "    \n",
    "    fig = plt.figure()\n",
    "    fig.set_figwidth(width if width is not None else 4)\n",
    "    fig.set_figheight(height if height is not None else 2.5)\n",
    "    ax = fig.gca()\n",
    "\n",
    "    if discrete:\n",
    "        bins = [ i-0.5 for i in range(maxx+2) ]\n",
    "        ax.xaxis.set_major_locator(mpl.ticker.MaxNLocator(integer=True))\n",
    "        hist=plt.hist(data, bins=bins, rwidth=0.9, density=True)\n",
    "    else:\n",
    "        hist=plt.hist(data, density=True)\n",
    "    plt.xlabel(xlabel)\n",
    "    plt.ylabel('Density')\n",
    "    plt.title(title)\n",
    "\n",
    "    if discrete:\n",
    "        poisson=stats.poisson(μ)\n",
    "        x = [ i for i in range(maxx+1) ]\n",
    "        y =[ poisson.pmf(i) for i in range(maxx+1) ]\n",
    "        ax.plot(x, y, lw=1, color='red')\n",
    "    else:\n",
    "        x = np.linspace(minx, maxx, 100)\n",
    "        y = [ stats.norm(loc=μ, scale=σ).pdf(p) for p in x]\n",
    "        ax.plot(x, y, lw=1, color='red')\n",
    "        \n",
    "    ax.axvline(x=μ, color='red')\n",
    "    maxy = max(max(y), max(hist[0]))\n",
    "    ax.text(maxx, maxy, \n",
    "            f'μ={μ:2.2f}\\nσ={σ:2.2f}', \n",
    "            ha='right', va='top', \n",
    "            color='red', fontsize=12)\n",
    "    \n",
    "    # ax.grid(True)\n",
    "    plt.show()\n",
    "\n",
    "def dailyPlot(data, \n",
    "              title=\"\", ylabel=\"\",\n",
    "              width=None, height=None):\n",
    "    \n",
    "    days = len(data)\n",
    "    \n",
    "    fig = plt.figure()\n",
    "    fig.set_figwidth(width if width is not None else 6)\n",
    "    fig.set_figheight(height if height is not None else 2)\n",
    "    \n",
    "    ax = fig.gca()\n",
    "    diff = (max(data)-min(data)+1)*0.1\n",
    "    ymin = math.floor(min(data))-diff\n",
    "    ymax = math.ceil(max(data))+diff\n",
    "    ax.set_xlim(-0.5, days-1+0.5)\n",
    "    ax.set_ylim(ymin-0.5, ymax+0.5)\n",
    "    ax.grid(True)\n",
    "    \n",
    "    ms = 2 if len(data)>=100 else 3\n",
    "    lw = 0.5 if len(data)>=100 else 1\n",
    "\n",
    "    x = np.arange(0, len(data))\n",
    "    y = np.array([ y for y in data ])\n",
    "    b, m = np.polynomial.polynomial.polyfit(x, y, 1)\n",
    "    ax.xaxis.set_major_locator(mpl.ticker.MaxNLocator(integer=True))\n",
    "    ax.yaxis.set_major_locator(mpl.ticker.MaxNLocator(integer=True))\n",
    "    \n",
    "    plt.plot(x, y, 'bo-', linewidth=lw, markersize=ms)\n",
    "    plt.plot(x, m*x+b, 'r-')\n",
    "    \n",
    "    plt.xlabel('Day')\n",
    "    plt.ylabel(ylabel)\n",
    "    plt.title(title)\n",
    "    plt.show()\n",
    "\n",
    "def countPlot(A, B, \n",
    "              title=\"\", ylabel=\"\",\n",
    "              width=None, height=None):\n",
    "\n",
    "    assert(len(A)==len (B))\n",
    "    days = len(A)\n",
    "    xmax = days-1\n",
    "    ymax = A.max()\n",
    "    \n",
    "    fig = plt.figure()\n",
    "    fig.set_figwidth(width if width is not None else 6)\n",
    "    fig.set_figheight(height if height is not None else 4)\n",
    "    ax = fig.gca()\n",
    "    ax.set_xlim(-0.5, xmax+0.5)\n",
    "    ax.set_ylim(0, ymax)\n",
    "    \n",
    "    def double(l, offset=0):\n",
    "        return [] if l==[] else [l[0]+offset, l[0]+offset]+double(l[1:], offset)\n",
    "            \n",
    "    x = double([i for i in range(days)])+[days]\n",
    "    xz = double([i+days*0.006 for i in range(days)])+[days]\n",
    "    y = [0+ymax*0.006] + double(list(A), offset=ymax*0.006)\n",
    "    z = [0] + double(list(B))\n",
    "        \n",
    "    ax.yaxis.set_major_locator(mpl.ticker.MaxNLocator(integer=True))\n",
    "    ax.xaxis.set_major_locator(mpl.ticker.MaxNLocator(integer=True))\n",
    "\n",
    "    for i in range(days):\n",
    "        ax.fill_between([i, i+1], \n",
    "                        [z[2*i+1], z[2*i+2]], \n",
    "                        [y[2*i+1], y[2*i+2]], color='blue', alpha=0.2)\n",
    "\n",
    "    lw = 1 if days>=50 or ymax>=100 else 2\n",
    "    ax.plot(x, y, color='blue', lw=lw)\n",
    "    ax.plot(xz, z, color='red', lw=lw)\n",
    "    plt.xlabel('Day')\n",
    "    plt.ylabel(ylabel)\n",
    "    plt.title(title)\n",
    "    ax.grid(True)\n",
    "    plt.show()"
   ]
  },
  {
   "cell_type": "markdown",
   "metadata": {},
   "source": [
    "## Finding Shortest Path"
   ]
  },
  {
   "cell_type": "code",
   "execution_count": 38,
   "metadata": {},
   "outputs": [],
   "source": [
    "def pathLength(P):\n",
    "    return 0 if len(P)<=1 else \\\n",
    "            dist(P[0], P[1])+pathLength(P[1:])"
   ]
  },
  {
   "cell_type": "code",
   "execution_count": 39,
   "metadata": {},
   "outputs": [],
   "source": [
    "def shortestPath(M, A, B):\n",
    "\n",
    "    def h(p): \n",
    "        return pathLength(p)+dist(p[-1],B)\n",
    "    \n",
    "    # candidates C are pairs of the path so far and \n",
    "    # the heuristic function of that path, \n",
    "    # sorted by the heuristic function, as maintained by\n",
    "    # insert function\n",
    "    def insert(C, p):\n",
    "        hp = h(p)\n",
    "        c = (p, hp)\n",
    "        for i in range(len(C)):\n",
    "            if C[i][1]>hp:\n",
    "                return C[:i]+[c]+C[i:]\n",
    "        return C+[c]   \n",
    "        \n",
    "    V, E = M\n",
    "    assert(A in V and B in V)    \n",
    "    C = insert([], [A])\n",
    "\n",
    "    while len(C)>0:\n",
    "        # take the first candidate out of the list of candidates\n",
    "        path, _ = C[0]\n",
    "        C = C[1:]\n",
    "        if path[-1]==B:\n",
    "            return path\n",
    "        else:\n",
    "            for (x, y) in E:\n",
    "                if path[-1]==x and y not in path:\n",
    "                    C = insert(C, path+[y])\n",
    "                elif path[-1]==y and x not in path:\n",
    "                    C = insert(C, path+[x])\n",
    "    return None"
   ]
  },
  {
   "cell_type": "markdown",
   "metadata": {},
   "source": [
    "## Finding Short Delivery Route "
   ]
  },
  {
   "cell_type": "markdown",
   "metadata": {},
   "source": [
    "## Greedy Algorithm"
   ]
  },
  {
   "cell_type": "code",
   "execution_count": 40,
   "metadata": {},
   "outputs": [],
   "source": [
    "def FW(M):\n",
    "    \n",
    "    V, E = M\n",
    "\n",
    "    n = len(V)\n",
    "    d = [ [ math.inf for j in range(n) ] for i in range(n) ]\n",
    "    p = [ [ None for j in range(n) ] for i in range(n) ]\n",
    "\n",
    "    for (A, B) in E:\n",
    "        a = V.index(A)\n",
    "        b = V.index(B)\n",
    "        d[a][b] = d[b][a] = dist(A, B)\n",
    "        p[a][b] = [A, B]\n",
    "        p[b][a] = [B, A]\n",
    "    \n",
    "    for i in range(n):\n",
    "        d[i][i] = 0\n",
    "        p[i][i] = [V[i]]\n",
    "    \n",
    "    for k in range(n):\n",
    "        for i in range(n):\n",
    "            for j in range(n):\n",
    "                dk = d[i][k] + d[k][j]\n",
    "                if d[i][j] > dk:\n",
    "                    d[i][j] = dk\n",
    "                    p[i][j] = p[i][k][:-1] + p[k][j]\n",
    "                    \n",
    "    return d, p"
   ]
  },
  {
   "cell_type": "code",
   "execution_count": 41,
   "metadata": {},
   "outputs": [],
   "source": [
    "def createLoopG(M, T, timing=False):\n",
    "    \n",
    "    def makeLoop(L, V, P):\n",
    "        loop = []\n",
    "        for i in range(len(L)-1):\n",
    "            A = L[i]\n",
    "            B = L[i+1]\n",
    "            a = V.index(A)\n",
    "            b = V.index(B)\n",
    "            sub = P[a][b]\n",
    "            loop += sub if len(loop)==0 else sub[1:]\n",
    "        return loop\n",
    "        \n",
    "    if timing:\n",
    "        start_time = time.time()\n",
    "        last_time = time.time()\n",
    "    \n",
    "    V, E = M\n",
    "    D, P = FW(M)   # note these are the distances between all vertices in M (and T)\n",
    "    W = T[0]\n",
    "    customers = T[1:]\n",
    "    if len(T)==1:\n",
    "        L = T\n",
    "    elif len(T)<=3:\n",
    "        L = T + [T[0]]\n",
    "    else:\n",
    "        L = T[:3]+[T[0]]\n",
    "        T = T[3:]\n",
    "        while len(T)>0:\n",
    "            \n",
    "            minExt = math.inf\n",
    "            minInd = None\n",
    "            selInd = None\n",
    "            for k in range(len(T)):\n",
    "                C = T[k]\n",
    "                c = V.index(C)\n",
    "                for i in range(0, len(L)-1):\n",
    "                    A = L[i]\n",
    "                    B = L[i+1]\n",
    "                    a = V.index(A)\n",
    "                    b = V.index(B)\n",
    "                    ext = D[a][c] + D[c][b] - D[a][b]\n",
    "                    if ext<minExt:\n",
    "                        minExt, minInd, selInd = ext, i+1, k\n",
    "            L = L[:minInd]+[T[selInd]]+L[minInd:]\n",
    "            T = T[:selInd]+T[selInd+1:]\n",
    "            \n",
    "    if timing:\n",
    "        print(f\"createLoopG:    {time.time()-start_time:6.2f}s\")\n",
    "\n",
    "    return makeLoop(L, V, P)"
   ]
  },
  {
   "cell_type": "markdown",
   "metadata": {},
   "source": [
    "## Finding Optimal Delivery Route"
   ]
  },
  {
   "cell_type": "markdown",
   "metadata": {},
   "source": [
    "### Iterative Integer Programming"
   ]
  },
  {
   "cell_type": "code",
   "execution_count": 42,
   "metadata": {},
   "outputs": [],
   "source": [
    "def createTables(M, T):\n",
    "\n",
    "    def reverse(P):\n",
    "        return [ P[-i] for i in range(1,len(P)+1) ]\n",
    "    \n",
    "    def index(x, L):\n",
    "        for i in range(len(L)):\n",
    "            if x==L[i]: \n",
    "                return i\n",
    "        return None\n",
    "\n",
    "    n = len(T)\n",
    "    d = [ [ math.inf for t in T ] for t in T ]\n",
    "    p = [ [ None for t in T ] for t in T ]\n",
    "    for i in range(n):\n",
    "        d[i][i] = 0\n",
    "        p[i][i] = [ T[i] ]\n",
    "    for i in range(n):\n",
    "        for j in range(n):\n",
    "            if p[i][j] is None:\n",
    "                s = shortestPath(M, T[i], T[j])\n",
    "                d[i][j] = d[j][i] = pathLength(s)\n",
    "                p[i][j] = s\n",
    "                p[j][i] = reverse(s)\n",
    "                for m in range(len(s)-1):\n",
    "                    smi = index(s[m], T)\n",
    "                    if smi is None:\n",
    "                        continue\n",
    "                    for l in range(m+1, len(s)):\n",
    "                        sli = index(s[l], T)\n",
    "                        if sli is None:\n",
    "                            continue  \n",
    "                        sub = s[m:l+1]\n",
    "                        if p[smi][sli] is None:\n",
    "                            p[smi][sli] = sub\n",
    "                            p[sli][smi] = reverse(sub)\n",
    "                            d[smi][sli] = d[sli][smi] = pathLength(sub)\n",
    "    return d,p               "
   ]
  },
  {
   "cell_type": "code",
   "execution_count": 43,
   "metadata": {},
   "outputs": [],
   "source": [
    "def roundtrips(x, n):\n",
    "    \n",
    "    def isElem(x, l):\n",
    "        for i in range(len(l)):\n",
    "            if l[i]==x:\n",
    "                return True\n",
    "        return False\n",
    "\n",
    "    def startpoint(trips):\n",
    "        for i in range(n):\n",
    "            for t in trips:\n",
    "                if isElem(i, t):\n",
    "                    break\n",
    "            else:\n",
    "                return i\n",
    "    \n",
    "    def totalLength(trips):\n",
    "        s=0\n",
    "        for i in range(0, len(trips)):\n",
    "            s += len(trips[i])-1\n",
    "        return s\n",
    "\n",
    "    trips = []\n",
    "    while totalLength(trips)<n:\n",
    "        start = startpoint(trips)\n",
    "        trip = [ start ]\n",
    "        i = start\n",
    "        while len(trip) < n-totalLength(trips):\n",
    "            for j in range(0, n):\n",
    "                if pulp.value(x[i][j])==1:\n",
    "                    trip.append(j)\n",
    "                    i=j\n",
    "                    break        \n",
    "            if pulp.value(x[trip[-1]][start])==1:\n",
    "                trip.append(start)\n",
    "                break\n",
    "        trips.append(trip)\n",
    "    return sorted(trips, key=lambda t: len(t), reverse=True)"
   ]
  },
  {
   "cell_type": "code",
   "execution_count": 44,
   "metadata": {},
   "outputs": [],
   "source": [
    "import time\n",
    "\n",
    "def createLoop(M, T, timing=False):\n",
    "    \n",
    "    if timing:\n",
    "        start_time = last_time = time.time()\n",
    "        \n",
    "    D, P = createTables(M, T)   # These are the distances between customers and warehouse only\n",
    "    \n",
    "    if timing:\n",
    "        print(f\"createTables:   {time.time()-start_time:6.2f}s\")\n",
    "        last_time = time.time()\n",
    "        \n",
    "    n = len(T)\n",
    "    # create variables\n",
    "    x = pulp.LpVariable.dicts(\"x\", ( range(n), range(n) ),\n",
    "                            lowBound=0, upBound=1, cat=pulp.LpInteger)\n",
    "    # create problem\n",
    "    prob = pulp.LpProblem(\"Loop\",pulp.LpMinimize)\n",
    "    # add objective function\n",
    "    prob += pulp.lpSum([ D[i][j]*x[i][j] \n",
    "                             for i in range(n) for j in range(n) ])\n",
    "    # add constraints\n",
    "    constraints=0\n",
    "    for j in range(n):\n",
    "        prob += pulp.lpSum([ x[i][j] for i in range(n) if i!=j ]) ==1\n",
    "    constraints += n\n",
    "    for i in range(n):\n",
    "        prob += pulp.lpSum([ x[i][j] for j in range(n) if i!=j ]) ==1\n",
    "    constraints += n\n",
    "    for i in range(n):\n",
    "        for j in range(n):\n",
    "            if i!=j:\n",
    "                prob += x[i][j]+x[j][i] <= 1\n",
    "                constraints += 1\n",
    "                \n",
    "    def cycles(k, n):\n",
    "        if k==1:\n",
    "            return [ [i] for i in range(0,n) ]\n",
    "        else:\n",
    "            sc=cycles(k-1, n)\n",
    "            all=[]\n",
    "            for c in sc:\n",
    "                for i in range(0,n):\n",
    "                    if c.count(i)==0:\n",
    "                        all.append(c+[i])\n",
    "            return all\n",
    "\n",
    "    for k in range(3, 4):   \n",
    "        cycs=cycles(k,n)\n",
    "        for c in cycs:\n",
    "            c.append(c[0])\n",
    "            prob+=pulp.lpSum([ x[c[i]][c[i+1]] for i in range(0,k)]) <= k-1\n",
    "            constraints += 1    \n",
    "            \n",
    "    # initialise solver\n",
    "    solvers = pulp.listSolvers(onlyAvailable=True)\n",
    "    solver = pulp.getSolver(solvers[0], msg=0, timeLimit=2)\n",
    "    res = prob.solve(solver)\n",
    "\n",
    "    if timing:\n",
    "        print(f\"Solver:         {time.time()-last_time:6.2f}s {constraints:6,d} Constraints\")\n",
    "        last_time = time.time()\n",
    "        \n",
    "    trips = roundtrips(x, n)\n",
    "    while len(trips)>1:\n",
    "        longest = max([ len(t) for t in trips ])\n",
    "        for t in trips:\n",
    "            if len(t)<longest:\n",
    "                prob += pulp.lpSum([ x[t[i]][t[i+1]] + x[t[i+1]][t[i]]\n",
    "                                        for i in range(0,len(t)-1) ]) <= len(t)-2\n",
    "                constraints += 1\n",
    "            else:\n",
    "                longest = math.inf\n",
    "                \n",
    "        res = prob.solve(solver)\n",
    "        \n",
    "        if timing:\n",
    "            print(f\"Solver:         {time.time()-last_time:6.2f}s {constraints:6,d} Constraints\")\n",
    "            last_time = time.time()\n",
    "\n",
    "        trips = roundtrips(x, n)\n",
    "    trip = trips[0]\n",
    "    # print(trip)\n",
    "    loop = []\n",
    "    for k in range(len(trip)-1):\n",
    "        sub = P[trip[k]][trip[k+1]]\n",
    "        loop += sub if len(loop)==0 else sub[1:]\n",
    "        \n",
    "    if timing:\n",
    "        print(f\"createLoop:     {time.time()-start_time:6.2f}s\")\n",
    "\n",
    "    return loop"
   ]
  },
  {
   "cell_type": "markdown",
   "metadata": {},
   "source": [
    "## Static Route Assignment"
   ]
  },
  {
   "cell_type": "markdown",
   "metadata": {},
   "source": [
    "### Chinese Postman Problem"
   ]
  },
  {
   "cell_type": "code",
   "execution_count": 45,
   "metadata": {},
   "outputs": [],
   "source": [
    "import time\n",
    "\n",
    "def solveCPP(M, PostOffice, n=1, \n",
    "             maxLength=None, balance=None, \n",
    "             timing=False, timeLimit=10):\n",
    "\n",
    "    start_time = time.time()\n",
    "    \n",
    "    V, E = M\n",
    "\n",
    "    postoffice = V.index(PostOffice)\n",
    "\n",
    "    def edge(e): return label(V.index(E[e][0]))+label(V.index(E[e][1]))\n",
    "    def edges(l): return \",\".join([ edge(i) for i in range(len(l)) if l[i]==1 ])\n",
    "    def path(p): return '-'.join([ label(v) for v in p ])\n",
    "\n",
    "    Edges = [ edge(e) for e in range(len(E)) ]\n",
    "\n",
    "    b = pulp.LpVariable.dicts(\"B\", (range(n), range(len(V))), lowBound=0, upBound=1, cat=pulp.LpInteger)\n",
    "\n",
    "    y0 = pulp.LpVariable.dicts(\"Y0\", (range(n), Edges), lowBound=0) # , upBound=len(E), cat=pulp.LpInteger)\n",
    "    y1 = pulp.LpVariable.dicts(\"Y1\", (range(n), Edges), lowBound=0) # , upBound=len(E), cat=pulp.LpInteger)\n",
    "    yp0 = pulp.LpVariable.dicts(\"YP0\", (range(n), Edges), lowBound=0) # , upBound=len(E), cat=pulp.LpInteger)\n",
    "    yp1 = pulp.LpVariable.dicts(\"YP1\", (range(n), Edges), lowBound=0) # , upBound=len(E), cat=pulp.LpInteger)\n",
    "    yn0 = pulp.LpVariable.dicts(\"YN0\", (range(n), Edges), lowBound=0) # , upBound=len(E), cat=pulp.LpInteger)\n",
    "    yn1 = pulp.LpVariable.dicts(\"YN1\", (range(n), Edges), lowBound=0) # , upBound=len(E), cat=pulp.LpInteger)\n",
    "    \n",
    "    e0 = pulp.LpVariable.dicts(\"E0\", (range(n), Edges), lowBound=0, upBound=1, cat=pulp.LpInteger)\n",
    "    e1 = pulp.LpVariable.dicts(\"E1\", (range(n), Edges), lowBound=0, upBound=1, cat=pulp.LpInteger)\n",
    "    dp0 = pulp.LpVariable.dicts(\"DP0\", (range(n), Edges), lowBound=0, upBound=1, cat=pulp.LpInteger)\n",
    "    dn0 = pulp.LpVariable.dicts(\"DN0\", (range(n), Edges), lowBound=0, upBound=1, cat=pulp.LpInteger)\n",
    "    dp1 = pulp.LpVariable.dicts(\"DP1\", (range(n), Edges), lowBound=0, upBound=1, cat=pulp.LpInteger)\n",
    "    dn1 = pulp.LpVariable.dicts(\"DN1\", (range(n), Edges), lowBound=0, upBound=1, cat=pulp.LpInteger)\n",
    "\n",
    "    def vars(l,x): return edges([ int(pulp.value(x[l][e])) for e in Edges ])\n",
    "    def vals(l,x): return [ round(pulp.value(x[l][e]),1) for e in Edges ]\n",
    "    \n",
    "    prob = pulp.LpProblem(\"CPP\", pulp.LpMinimize)\n",
    "\n",
    "    def loopLength(l):\n",
    "        return pulp.lpSum([ dist(v1,v2)*e0[l][e] for e in Edges for v1 in V for v2 in V if E[Edges.index(e)]==(v1, v2) ]) + \\\n",
    "               pulp.lpSum([ dist(v1,v2)*e1[l][e] for e in Edges for v1 in V for v2 in V if E[Edges.index(e)]==(v1, v2) ])\n",
    "        \n",
    "    prob += pulp.lpSum([ loopLength(l) for l in range(n) ])\n",
    "\n",
    "    # avoid non-trivial loops\n",
    "    # for l in range(n):\n",
    "    #    prob += pulp.lpSum([ b[l][v] for v in range(len(V)) ]) >= 2, f\"NT_{l}\"\n",
    "        \n",
    "    if maxLength is not None:\n",
    "        for l in range(n):\n",
    "            prob += loopLength(l) <= maxLength, f\"Max_{l}\"\n",
    "\n",
    "    if balance is not None:\n",
    "        d = pulp.LpVariable.dicts(\"D\", range(n), lowBound=0)\n",
    "        \n",
    "        for l in range(n):\n",
    "            prob += d[l] == loopLength(l), f\"D_{l}\"\n",
    "            \n",
    "        for l in range(n):    \n",
    "            prob += d[l] <= pulp.lpSum([ d[l] for l in range(n) ])*(1+balance)/n, f\"DMAX_{l}\"\n",
    "            prob += d[l] >= pulp.lpSum([ d[l] for l in range(n) ])*(1-balance)/n, f\"DMIN_{l}\"\n",
    "            \n",
    "    # Constraint YE: Y-E Relationship [equivalent to (9)]\n",
    "    BigM = 100*n*len(E)\n",
    "    for e in Edges:\n",
    "        for l in range(n):\n",
    "            prob += y0[l][e] <= BigM*e0[l][e], f\"YE0_{l}_{e}\"\n",
    "            prob += y1[l][e] <= BigM*e1[l][e], f\"YE1_{l}_{e}\"\n",
    "\n",
    "    # Constraint C: counting [equivalent (8)]\n",
    "    for v in range(len(V)):\n",
    "        if v!=postoffice:\n",
    "            for l in range(n):\n",
    "                prob += pulp.lpSum([ yp0[l][e]+yp1[l][e] for e in Edges if E[Edges.index(e)][0]==V[v] ]) + \\\n",
    "                        pulp.lpSum([ yn0[l][e]+yn1[l][e] for e in Edges if E[Edges.index(e)][1]==V[v] ]) - \\\n",
    "                        pulp.lpSum([ yp0[l][e]+yp1[l][e] for e in Edges if E[Edges.index(e)][1]==V[v] ]) - \\\n",
    "                        pulp.lpSum([ yn0[l][e]+yn1[l][e] for e in Edges if E[Edges.index(e)][0]==V[v] ]) == -1*b[l][v], \\\n",
    "                        f\"C_{l}_\"+label(v)\n",
    "    \n",
    "    # Invariance Constraint F/B: Relation between variables in each loop every edge is passed this way or that way\n",
    "    for e in Edges:        \n",
    "        for l in range(n):\n",
    "            prob += dp0[l][e]+dn0[l][e] == e0[l][e], f\"EF_{l}_{e}\"\n",
    "            prob += dp1[l][e]+dn1[l][e] == e1[l][e], f\"EB_{l}_{e}\"     \n",
    "    for e in Edges:        \n",
    "        for l in range(n):\n",
    "            prob += yp0[l][e]+yn0[l][e] == y0[l][e], f\"YF_{l}_{e}\"\n",
    "            prob += yp1[l][e]+yn1[l][e] == y1[l][e], f\"YB_{l}_{e}\"   \n",
    "\n",
    "    # Constraint E10: The duplicate edge is only used if the primary edge was used\n",
    "    for e in Edges:        \n",
    "        for l in range(n):\n",
    "            prob += e1[l][e] <= e0[l][e], f\"E10_{l}_{e}\" \n",
    "    \n",
    "    # Constraint O: Every edge is passed across all loops at least once [equivalent (2)]\n",
    "    for e in Edges:\n",
    "        prob += pulp.lpSum( [ e0[l][e]+e1[l][e] for l in range(n) ] ) >= 1, \\\n",
    "                    f\"O_{e}\"\n",
    "        \n",
    "    # Constraint M: In each loop every edge is passed at most twice [equivalent (7)]\n",
    "    for e in Edges:        \n",
    "        for l in range(n):\n",
    "            prob += e0[l][e]+e1[l][e] <= \\\n",
    "              pulp.lpSum([ 2*b[l][v] for v in range(len(V)) if E[Edges.index(e)][0]==V[v] or E[Edges.index(e)][1]==V[v]]), \\\n",
    "                        f\"M_{l}_{e}\"\n",
    "\n",
    "    # Constraint V: In each loop every vertex is entered as often as it is left [equivalent (3)]\n",
    "    for v in range(len(V)):\n",
    "        for l in range(n):\n",
    "            prob += pulp.lpSum([ dp0[l][e]+dp1[l][e]-dn0[l][e]-dn1[l][e] for e in Edges if E[Edges.index(e)][0]==V[v] ]) + \\\n",
    "                    pulp.lpSum([ dn0[l][e]+dn1[l][e]-dp0[l][e]-dp1[l][e] for e in Edges if E[Edges.index(e)][1]==V[v] ]) == 0, \\\n",
    "                        f\"V_{l}_\"+label(v)\n",
    "\n",
    "    # print(prob)\n",
    "    \n",
    "    solvers = pulp.listSolvers(onlyAvailable=True)\n",
    "    solver = pulp.getSolver(solvers[0], msg=False, timeLimit=timeLimit)\n",
    "    status = prob.solve(solver)\n",
    "\n",
    "    solverTime = time.time()-start_time\n",
    "        \n",
    "    if timing:\n",
    "        print(f\"Solver time: {solverTime:7.2f}s\")\n",
    "                \n",
    "    if status!=1:\n",
    "        print(pulp.LpStatus[status])\n",
    "        return []\n",
    "        \n",
    "    if solverTime >= timeLimit:\n",
    "        print(\"Solution possibly not optimal\")\n",
    "        \n",
    "    print(f\"Total Delivery Path Length: {pulp.value(prob.objective)}\")\n",
    "\n",
    "    def solutions(l):\n",
    "\n",
    "        DP0 = [ int(pulp.value(dp0[l][e])) for e in Edges ]\n",
    "        DP1 = [ int(pulp.value(dp1[l][e])) for e in Edges ]\n",
    "        DN0 = [ int(pulp.value(dn0[l][e])) for e in Edges ]\n",
    "        DN1 = [ int(pulp.value(dn1[l][e])) for e in Edges ]\n",
    "\n",
    "        E0 = [ int(pulp.value(e0[l][e])) for e in Edges ]\n",
    "        E1 = [ int(pulp.value(e1[l][e])) for e in Edges ]\n",
    "\n",
    "        # candidates C are the paths so far, \n",
    "        def insert(C, p): return [p]+C \n",
    "\n",
    "        def refine(c, v, e0=None, e1=None):\n",
    "            assert(e0 is not None or e1 is not None)\n",
    "            if e0 is not None:\n",
    "                c0 = c[0].copy()\n",
    "                c0[e0] = 0\n",
    "                return (c0, c[1], c[2]+[V.index(v)])\n",
    "            if e1 is not None:\n",
    "                c1 = c[1].copy()\n",
    "                c1[e1] = 0\n",
    "                return (c[0], c1, c[2]+[V.index(v)])\n",
    "\n",
    "        def isSolution(cand):\n",
    "            return sum(cand[0])+sum(cand[1])==0\n",
    "            \n",
    "        C = [ (E0, E1, [ V.index(PostOffice) ]) ]\n",
    "        solutions = []\n",
    "\n",
    "        while len(C)>0:\n",
    "\n",
    "            # take the first candidate out of the list of candidates\n",
    "            cand, C = C[0], C[1:]\n",
    "            \n",
    "            if isSolution(cand): \n",
    "                # solutions.append(cand[2])\n",
    "                return [ cand[2] ]\n",
    "            else:\n",
    "                last = cand[2][-1]\n",
    "                for e in range(len(E)):\n",
    "                    newCand = None\n",
    "                    if V.index(E[e][0]) == last:  \n",
    "                        ## print(\"edge\", edge(e), 'forward extends', path(cand[2]))\n",
    "                        # the edge begins in the current position\n",
    "                        if cand[0][e] == 1 and DP0[e] == 1:\n",
    "                            newCand = refine(cand, E[e][1], e0=e)\n",
    "                        elif cand[1][e] == 1 and DP1[e] == 1:\n",
    "                            newCand = refine(cand, E[e][1], e1=e) \n",
    "                    elif V.index(E[e][1]) == last:   # the edge ends in the current position\n",
    "                        ## print(\"edge\", edge(e), 'backwards extends', path(cand[2]))\n",
    "                        if cand[0][e] == 1 and DN0[e] == 1:\n",
    "                            newCand = refine(cand, E[e][0], e0=e)\n",
    "                        elif cand[1][e] == 1 and DN1[e] == 1:\n",
    "                            newCand = refine(cand, E[e][0], e1=e)\n",
    "                    if newCand is not None:\n",
    "                        # if isSolution(newCand): return [ newCand[2] ]\n",
    "                        C = insert(C, newCand)\n",
    "\n",
    "        return solutions\n",
    "        \n",
    "    return [ ( [ path(p) for p in solutions(l) ],  \n",
    "               [ [ V[v] for v in p ] for p in solutions(l) ],  \n",
    "               pulp.value(loopLength(l)) ) \n",
    "            for l in range(n) ]"
   ]
  },
  {
   "cell_type": "code",
   "execution_count": 46,
   "metadata": {},
   "outputs": [],
   "source": [
    "def splitMap(fullMap, L, plot=False):\n",
    "    Maps, Loops = [], []\n",
    "    for l in range(len(L)):\n",
    "        paths, loops, length = L[l]\n",
    "        loop = loops[0]\n",
    "        W = loop[0]\n",
    "\n",
    "        V = []\n",
    "        E = []\n",
    "        for i in range(len(loop)-1):\n",
    "            A, B = loop[i], loop[i+1]\n",
    "            if A not in V:\n",
    "                V.append(A)\n",
    "            if (A, B) not in E and (B, A) not in E:\n",
    "                E.append((A, B))\n",
    "        subMap = V, E\n",
    "        Maps.append(subMap)\n",
    "        Loops.append(loop)\n",
    "\n",
    "        if plot:\n",
    "            #plotMap(fullMap, P=loop, w=W, \n",
    "            #        labels=True, scale=True, \n",
    "            #        text=f\"Loop {l}: {int(length):7,d}m\") \n",
    "\n",
    "            plotMap(subMap, w=W, frame=fullMap, scale=True, \n",
    "                    text=f\"Map {l}: Full Roundtrip {int(length):,d}m\")\n",
    "        \n",
    "    return Maps, Loops"
   ]
  },
  {
   "cell_type": "markdown",
   "metadata": {},
   "source": [
    "`shortenLoop(L, T)` shortens a complete coverage loop `L` while adding new targets `T`"
   ]
  },
  {
   "cell_type": "code",
   "execution_count": 47,
   "metadata": {},
   "outputs": [],
   "source": [
    "def shortenLoop(L, M, T):\n",
    "    for t in T:\n",
    "        minD = math.inf\n",
    "        minI = None\n",
    "        for i in range(len(L)-1):\n",
    "            P, Q = L[i], L[i+1]\n",
    "            distT = dist(P, t)+dist(t, Q)-dist(P, Q)\n",
    "            if distT < minD:\n",
    "                minD = distT\n",
    "                minI = i\n",
    "        L = L[:minI+1]+[t]+L[minI+1:]\n",
    "    success = True\n",
    "    while success:\n",
    "        success = False\n",
    "        for i in range(len(L)-1):\n",
    "            P = L[i]\n",
    "            for j in range(i+1, len(L)):\n",
    "                Q = L[j]\n",
    "                \n",
    "                if Q in T:\n",
    "                    shortcut = shortestPath(M, P, Q)\n",
    "                    if pathLength(shortcut)<pathLength(L[i:j+1]):\n",
    "                        L = L[:i]+shortcut+L[j+1:]\n",
    "                        success = True\n",
    "                    break\n",
    "                if Q==P:\n",
    "                    L = L[:i+1]+L[j+1:]\n",
    "                    success = True\n",
    "                    break\n",
    "            if success:\n",
    "                break\n",
    "    return L"
   ]
  },
  {
   "cell_type": "markdown",
   "metadata": {},
   "source": [
    "### Split Customers into Regions"
   ]
  },
  {
   "cell_type": "code",
   "execution_count": 48,
   "metadata": {},
   "outputs": [],
   "source": [
    "def pickRegion(C, Maps):\n",
    "    options = []\n",
    "    for m in range(len(Maps)):\n",
    "        V, E = Maps[m]\n",
    "        for (A, B) in E:  \n",
    "            if dist(A, C)+dist(C, B) - dist(A, B) <= 1:\n",
    "                options.append(m)\n",
    "    return random.choice(options)"
   ]
  },
  {
   "cell_type": "code",
   "execution_count": 49,
   "metadata": {},
   "outputs": [],
   "source": [
    "def splitCustomers(C, Maps):\n",
    "    return [ pickRegion(C[i], Maps) for i in range(len(C)) ]"
   ]
  },
  {
   "cell_type": "code",
   "execution_count": 50,
   "metadata": {},
   "outputs": [],
   "source": [
    "def groupCustomersByRegions(C, Maps):\n",
    "    regions = splitCustomers(C, Maps)\n",
    "    n = len(Maps)\n",
    "    CC = [ [] for i in range(n) ]\n",
    "    for i in range(n):\n",
    "        for c in range(len(C)):\n",
    "            if regions[c]==i:\n",
    "                CC[i].append(C[c])\n",
    "    return CC"
   ]
  },
  {
   "cell_type": "markdown",
   "metadata": {},
   "source": [
    "### Integrated Planning Using CPP"
   ]
  },
  {
   "cell_type": "code",
   "execution_count": 51,
   "metadata": {},
   "outputs": [],
   "source": [
    "def planCPP(M, W, C, n=2, \n",
    "            maxLength=None, balance=None, \n",
    "            timing=False, timeLimit=10, plot=False):\n",
    "    L = solveCPP(M, W, n=n, \n",
    "                 maxLength=maxLength, balance=balance, \n",
    "                 timing=timing, timeLimit=timeLimit)\n",
    "    if len(L)==0: # unfeasible solution\n",
    "        return None\n",
    "        \n",
    "    MM, LL = splitMap(M, L)\n",
    "    CC = groupCustomersByRegions(C, MM)\n",
    "    \n",
    "    if plot:\n",
    "        for i in range(len(MM)):\n",
    "            plotMap(MM[i], w=W, frame=M, scale=True, \n",
    "                    text=f\"Map {i}: Full Roundtrip {int(L[i][2]):,d}m\")\n",
    "            MMT = addTargets(MM[i], CC[i])\n",
    "            path = shortenLoop(LL[i], MMT, [W] + CC[i])\n",
    "            plotMap(MMT, T=CC[i], P=path, w=W, frame=M, lwP=1, msPT=3, \n",
    "                    text=f\"Driver {i:d}:  {len(CC[i]):d} Customers, \"\n",
    "                         f\"max Roundtrip: {pathLength(path):,d}m\")\n",
    "    return MM, LL, CC"
   ]
  },
  {
   "cell_type": "code",
   "execution_count": 52,
   "metadata": {},
   "outputs": [],
   "source": [
    "def getRegions(CC, C):\n",
    "    regions = [ None for _ in C ]\n",
    "    for i in range(len(CC)):\n",
    "        for c in CC[i]:\n",
    "            regions[C.index(c)] = i\n",
    "    return regions"
   ]
  },
  {
   "cell_type": "markdown",
   "metadata": {},
   "source": [
    "## Classes"
   ]
  },
  {
   "cell_type": "markdown",
   "metadata": {},
   "source": [
    "### Class Recorder"
   ]
  },
  {
   "cell_type": "markdown",
   "metadata": {},
   "source": [
    "We willl use a class Recorder as a reference point for capturing data during the simulation. There will be only one recorder. It will be created at the beginning of every simulation run. Every entity will carry a reference to the Recorder. "
   ]
  },
  {
   "cell_type": "code",
   "execution_count": 53,
   "metadata": {},
   "outputs": [],
   "source": [
    "import time\n",
    "\n",
    "class Recorder:\n",
    "    \n",
    "    def __init__(self, env, M, W, C, D, Plan, days,\n",
    "                 log=False, plot=False, timing=False):\n",
    "        self.env = env\n",
    "        self.M = M\n",
    "        self.W = W\n",
    "        self.C = C\n",
    "        self.D = D\n",
    "        self.MM, self.LL, self.CC = Plan\n",
    "\n",
    "        self.parcels = sum([ len(d) for d in D ])\n",
    "        self.days = days\n",
    "        self.drivers = len(self.MM)\n",
    "        \n",
    "        self.log = log\n",
    "        self.plot = plot\n",
    "\n",
    "        # create a data frame for time records per working day\n",
    "        self.daily = [ pd.DataFrame() for d in range(self.drivers) ]\n",
    "\n",
    "        for driver in range(self.drivers):\n",
    "            self.daily[driver]['begin work at'] = [None]*days\n",
    "            self.daily[driver]['end work at'] = [None]*days\n",
    "            self.daily[driver]['tour length'] = [None]*days\n",
    "\n",
    "            self.daily[driver]['parcels left over'] = [0]*days\n",
    "            self.daily[driver]['parcels arrived'] = [0]*days\n",
    "            self.daily[driver]['parcels out for delivery'] = [0]*days\n",
    "            self.daily[driver]['parcels returned from delivery'] = [0]*days\n",
    "            self.daily[driver]['parcels delivered'] = [0]*days\n",
    "        \n",
    "\n",
    "        self.parcel = pd.DataFrame()\n",
    "        self.parcel['arrived at'] = [None]*self.parcels\n",
    "        self.parcel['delivered at'] = [None]*self.parcels\n",
    "        \n",
    "    def trace(self, event, driver=None):\n",
    "        if self.log:\n",
    "            prefix = \"\" if driver is None else f\"D{driver.id:d}: \"\n",
    "            print(timestamp(self.env.now), prefix+event)\n",
    "\n",
    "    def recordDriverBeginsWork(self, driver):\n",
    "        self.trace(\"arrives for work\", driver)\n",
    "        self.daily[driver.id].at[day(self.env.now), 'begin work at'] = int(round(self.env.now))\n",
    "        \n",
    "    def recordDriverEndsWork(self, driver):\n",
    "        self.trace(\"goes home\", driver)\n",
    "        self.daily[driver.id].at[day(self.env.now), 'end work at'] = int(round(self.env.now))\n",
    "        \n",
    "    def recordTourLength(self, driver, length):\n",
    "        self.daily[driver.id].at[day(self.env.now), 'tour length'] = int(length)\n",
    "\n",
    "    def recordParcelArrived(self, driver, parcel):\n",
    "        self.trace(str(parcel)+\" arr at delivery centre\", driver)\n",
    "        today = day(self.env.now)\n",
    "        self.daily[driver.id].at[today, 'parcels arrived'] += 1\n",
    "        self.parcel.at[parcel.i, 'arrived at'] = today\n",
    "\n",
    "    def recordParcelOutForDelivery(self, driver, parcel):\n",
    "        self.trace(str(parcel)+\" out for delivery\", driver)\n",
    "        self.daily[driver.id].at[day(self.env.now), 'parcels out for delivery'] += 1\n",
    "   \n",
    "    def recordParcelReturnedFromDelivery(self, driver, parcel):\n",
    "        self.trace(str(parcel)+\" returned from delivery\", driver)\n",
    "        self.daily[driver.id].at[day(self.env.now), 'parcels returned from delivery'] += 1\n",
    "\n",
    "    def recordParcelDelivered(self, driver, parcel):\n",
    "        self.trace(str(parcel)+\" delivered\", driver)\n",
    "        today = day(self.env.now)\n",
    "        self.daily[driver.id].at[today, 'parcels delivered'] += 1\n",
    "        self.parcel.at[parcel.i, 'delivered at'] = today\n",
    "        \n",
    "    def recordParcelsLeftOver(self, driver, n):\n",
    "        self.trace(f\"{n:d} parcels left over for next day\", driver)\n",
    "        self.daily[driver.id].at[day(self.env.now), 'parcels left over'] = n\n",
    "        \n",
    "    def finish(self):\n",
    "        # simulation is finished for good\n",
    "        # by removing the simulation environment we can\n",
    "        # pickle recorder\n",
    "        self.env = None\n",
    "\n",
    "        for driver in range(self.drivers):\n",
    "            self.daily[driver]['working time'] = (self.daily[driver]['end work at']-self.daily[driver]['begin work at'])//60\n",
    "            self.daily[driver]['cost'] = self.daily[driver]['working time'].apply(lambda x: max(60, x*30/60))\n",
    "            self.daily[driver]['cost'] += 0.08/1000*self.daily[driver]['tour length']\n",
    "            self.daily[driver]['cost'] = self.daily[driver]['cost'].apply(lambda x:round(x,2))\n",
    "\n",
    "        self.parcel['delivery delay'] = self.parcel['delivered at']-self.parcel['arrived at']\n",
    "\n",
    "        self.totalDaily = pd.DataFrame()\n",
    "        self.totalDaily['cum arrival'] = self.__Data('parcels arrived').cumsum()\n",
    "        self.totalDaily['cum delivery'] = self.__Data('parcels delivered').cumsum()\n",
    "        self.totalDaily['cost per parcel'] = self.__Data('cost')/self.__Data('parcels delivered')\n",
    "        self.totalDaily['cost per parcel'] = self.totalDaily['cost per parcel'].apply(lambda x:round(x,2))\n",
    "\n",
    "    # the Title() and Data() functions have been introduced\n",
    "    # solely to maintain the code of the plot/hist methods below\n",
    "    # as far as possible\n",
    "    \n",
    "    def __Title(self, title, driver):\n",
    "        return (\"Total \" if driver is None else \"\") + \\\n",
    "                title + \\\n",
    "                \" (\" + f\"{self.days:d} days\" + \\\n",
    "                (\"\" if driver is None else f\", Driver {driver:d} only\") +\")\"\n",
    "        \n",
    "    def __Data(self, col, driver=None):\n",
    "        if driver is None:\n",
    "            total = pd.DataFrame()\n",
    "            total['sum'] = [0] * self.days\n",
    "            for d in range(self.drivers):\n",
    "                total['sum'] += self.daily[d][col]\n",
    "            return total['sum']\n",
    "        else:\n",
    "            return self.daily[driver][col]\n",
    "\n",
    "    def summary(self):\n",
    "        df = pd.DataFrame(columns=['col', 'min', '25%', 'mean', '50%', '75%', 'max'])\n",
    "        special = 'cost per parcel'\n",
    "        df.col = list(self.daily[0].columns[2:]) + [special]\n",
    "        df = df.set_index('col')\n",
    "        for col in df.index:\n",
    "            data = self.__Data(col) if col!=special else self.totalDaily[special];\n",
    "            df.at[col, 'min'] = data.min()\n",
    "            df.at[col, '25%'] = round(data.quantile(0.25),2)\n",
    "            df.at[col, 'mean'] = round(data.mean(),2)\n",
    "            df.at[col, '50%'] = round(data.quantile(0.5),2)\n",
    "            df.at[col, '75%'] = round(data.quantile(0.75),2)\n",
    "            df.at[col, 'max'] = data.max()\n",
    "        return df\n",
    "        \n",
    "    def histWorkingTime(self, driver=None):\n",
    "        histPlot(self.__Data('working time', driver),\n",
    "                 xlabel='Working Time [min]',\n",
    "                 title=self.__Title('Daily Working Time', driver))\n",
    "        \n",
    "    def plotWorkingTime(self, driver=None):\n",
    "        dailyPlot(self.__Data('working time', driver),\n",
    "                  ylabel='Working Time [min]',\n",
    "                  title=self.__Title('Daily Working Time', driver))\n",
    "\n",
    "    def histTourLength(self, driver=None):\n",
    "        histPlot(self.__Data('tour length', driver),\n",
    "                 xlabel='Tour Length [m]',\n",
    "                 title=self.__Title('Daily Tour Length', driver))\n",
    "            \n",
    "    def plotTourLength(self, driver=None):\n",
    "        dailyPlot(self.__Data('tour length', driver),\n",
    "                  ylabel='Tour Length [m]',\n",
    "                  title=self.__Title('Daily Tour Length', driver))\n",
    "\n",
    "    def histDailyCost(self, driver=None):\n",
    "        histPlot(self.__Data('cost', driver),\n",
    "                 xlabel='Cost [€]',\n",
    "                 title=self.__Title('Daily Cost', driver))\n",
    "            \n",
    "    def plotDailyCost(self, driver=None):\n",
    "        dailyPlot(self.__Data('cost', driver),\n",
    "                  ylabel='Cost [€]',\n",
    "                  title=self.__Title('Daily Cost', driver))\n",
    "\n",
    "    def histParcelsArrived(self, driver=None):\n",
    "        histPlot(self.__Data('parcels arrived', driver),\n",
    "                 discrete=True,\n",
    "                 xlabel='Parcels Arrived',\n",
    "                 title=self.__Title('Daily Parcels Arrived', driver))\n",
    "                \n",
    "    def plotParcelsArrived(self, driver=None):\n",
    "        dailyPlot(self.__Data('parcels arrived', driver),\n",
    "                  ylabel='Parcels',\n",
    "                  title=self.__Title('Parcels Arrived Daily', driver))\n",
    "\n",
    "    def histParcelsOutForDelivery(self, driver=None):\n",
    "        histPlot(self.__Data('parcels out for delivery', driver),\n",
    "                 discrete=True,\n",
    "                 xlabel='Parcels',\n",
    "                 title=self.__Title('Parcels Daily out for Delivery', driver))\n",
    "        \n",
    "    def plotParcelsOutForDelivery(self, driver=None):\n",
    "        dailyPlot(self.__Data('parcels out for delivery', driver),\n",
    "                  ylabel='Parcels',\n",
    "                  title=self.__Title('Parcels Daily out for Delivery', driver))\n",
    "        \n",
    "    def histParcelsReturnedFromDelivery(self, driver=None):\n",
    "        histPlot(self.__Data('parcels returned from delivery', driver),\n",
    "                 discrete=True,\n",
    "                 xlabel='Parcels',\n",
    "                 title=self.__Title('Parcels Daily Returned From Delivery', driver))\n",
    "                \n",
    "    def plotParcelsReturnedFromDelivery(self, driver=None):\n",
    "        dailyPlot(self.__Data('parcels returned from delivery', driver),\n",
    "                  ylabel='Parcels',\n",
    "                  title=self.__Title('Daily Parcels Returned From Delivery', driver))\n",
    "\n",
    "    def histParcelsDelivered(self, driver=None):\n",
    "        histPlot(self.__Data('parcels delivered', driver),\n",
    "                 discrete=True,\n",
    "                 xlabel='Parcels',\n",
    "                 title=self.__Title('Parcels Delivered Daily', driver))\n",
    "\n",
    "    def plotParcelsDelivered(self, driver=None):\n",
    "        dailyPlot(self.__Data('parcels delivered', driver),\n",
    "                  ylabel='Parcels',\n",
    "                  title=self.__Title('Parcels Delivered Daily', driver))\n",
    "\n",
    "    def histParcelsLeftOver(self, driver=None):\n",
    "        histPlot(self.__Data('parcels left over', driver),\n",
    "                 discrete=True,\n",
    "                 xlabel='Parcels',\n",
    "                 title=self.__Title('Daily Left-Over Parcels', driver))\n",
    "                \n",
    "    def plotParcelsLeftOver(self, driver=None):\n",
    "        dailyPlot(self.__Data('parcels left over', driver),\n",
    "                  ylabel='Parcels',\n",
    "                  title=self.__Title('Daily Left-Over Parcels', driver))\n",
    "\n",
    "    def countPlot(self):\n",
    "        countPlot(self.totalDaily['cum arrival'], \n",
    "                  self.totalDaily['cum delivery'], \n",
    "                  ylabel='Parcels',\n",
    "                  title=f'Parcel Arrival/Delivery ({self.parcels:3,d} Parcels, {self.days:d} Days)')\n",
    "        \n",
    "    def histParcelDeliveryDelay(self):\n",
    "        histPlot(self.parcel['delivery delay'].dropna(), \n",
    "                 discrete=True,\n",
    "                 xlabel='Days',\n",
    "                 title=f'Parcel Delivery Delay in Days ({self.parcels:3,d} Parcels)')"
   ]
  },
  {
   "cell_type": "markdown",
   "metadata": {},
   "source": [
    "### Class Customer"
   ]
  },
  {
   "cell_type": "markdown",
   "metadata": {},
   "source": [
    "<img src='img/EventGraph Customer.png' width=500/>"
   ]
  },
  {
   "cell_type": "code",
   "execution_count": 54,
   "metadata": {},
   "outputs": [],
   "source": [
    "class Customer:\n",
    "    \n",
    "    def __init__(self, rec, id, location):\n",
    "        self.rec = rec\n",
    "        self.id = id\n",
    "        self.location = location\n",
    "        self.atHome = True\n",
    "        self.answersDoor = False\n",
    "        self.parcelsReceived = []\n",
    "        rec.env.process(self.process())\n",
    "        \n",
    "    def __str__(self):\n",
    "        return f\"Customer {self.id:d} at {str(self.location):s}\"\n",
    "    \n",
    "    def leaveHouse(self):\n",
    "        assert(self.atHome and not self.answersDoor)\n",
    "        # self.rec.trace(str(self)+\" leaves house\")\n",
    "        self.atHome = False\n",
    "     \n",
    "    def returnHome(self):\n",
    "        assert(not self.atHome)\n",
    "        # self.rec.trace(str(self)+\" returns home\")\n",
    "        self.atHome = True\n",
    "        \n",
    "    def answerDoor(self, driver):\n",
    "        if self.atHome:\n",
    "            answerTime = random.expovariate(1/AVG_TIME_ANSWER_DOOR)\n",
    "            if answerTime < WAIT_TIME_IF_CUSTOMER_DOESNT_ANSWER_DOOR:                            \n",
    "                yield self.rec.env.timeout(answerTime)\n",
    "                self.rec.trace(str(self)+\" answers door\", driver)\n",
    "                self.answersDoor = True\n",
    "            else:\n",
    "                yield self.rec.env.timeout(WAIT_TIME_IF_CUSTOMER_DOESNT_ANSWER_DOOR)\n",
    "                self.rec.trace(str(self)+\" to slow to answer the door\", driver)\n",
    "                self.answersDoor = False\n",
    "        else:\n",
    "            yield self.rec.env.timeout(WAIT_TIME_IF_CUSTOMER_DOESNT_ANSWER_DOOR)\n",
    "            self.rec.trace(str(self)+\" not at home\", driver)\n",
    "            self.answersDoot = False\n",
    "            \n",
    "    def acceptParcel(self, driver, parcel):\n",
    "        assert(self.answersDoor)\n",
    "        self.parcelsReceived += [parcel]\n",
    "        self.rec.recordParcelDelivered(driver, parcel)\n",
    "        \n",
    "    def signOff(self, driver):\n",
    "        assert(self.answersDoor)\n",
    "        self.rec.trace(str(self)+\" signs off\", driver)\n",
    "        self.answersDoor = False\n",
    "        \n",
    "    def process(self):\n",
    "        yield self.rec.env.timeout(nextHour(self.rec.env, 8))\n",
    "        while day(self.rec.env.now)<self.rec.days:\n",
    "            # in a refinement we may use random times\n",
    "            self.leaveHouse()\n",
    "            returnTime = 22 if random.random()<CUSTOMER_NOT_AT_HOME else 18\n",
    "            yield self.rec.env.timeout(nextHour(self.rec.env, returnTime))\n",
    "            self.returnHome()\n",
    "            yield self.rec.env.timeout(nextHour(self.rec.env, 8))"
   ]
  },
  {
   "cell_type": "markdown",
   "metadata": {},
   "source": [
    "### Class Parcel"
   ]
  },
  {
   "cell_type": "markdown",
   "metadata": {},
   "source": [
    "<img src='img/EventGraph Parcel.png' width=500/>"
   ]
  },
  {
   "cell_type": "markdown",
   "metadata": {},
   "source": [
    "Parcels follow through a sequence of states:\n",
    "- processing\n",
    "- in transit (from manufacture to distribution centre)\n",
    "- arrived in distribution centre\n",
    "- ready for delivery \n",
    "- out for delivery\n",
    "- customer not present\n",
    "- returned to distribution centre\n",
    "- delivered"
   ]
  },
  {
   "cell_type": "code",
   "execution_count": 55,
   "metadata": {},
   "outputs": [],
   "source": [
    "class Parcel:\n",
    "    \n",
    "    def __init__(self, rec, i, day, cust):\n",
    "        self.rec = rec\n",
    "        self.i = i  \n",
    "        self.arrival = day\n",
    "        self.cust = cust\n",
    "        self.status = [  ] # status record and\n",
    "        self.timing = [  ] # timing\n",
    "\n",
    "    def __str__(self):\n",
    "        return f\"Parcel {self.i:d} (for cust {self.cust.id:d}\"\n",
    "\n",
    "    def index(self):\n",
    "        return self.i\n",
    "    \n",
    "    def destination(self):\n",
    "        return self.cust.location\n",
    "    \n",
    "    def __reg(self, state):\n",
    "        self.status += [ state ]\n",
    "        self.timing += [ self.rec.env.now ]\n",
    "        \n",
    "    def arrivedAtDeliveryCentre(self, driver):\n",
    "        self.__reg('arr at delivery centre')\n",
    "        self.rec.recordParcelArrived(driver, self)\n",
    "        \n",
    "    def outForDelivery(self, driver): \n",
    "        self.__reg('out for delivery')\n",
    "        self.rec.recordParcelOutForDelivery(driver, self)\n",
    "        \n",
    "    def returnFromDelivery(self, driver):\n",
    "        self.__reg('return from delivery')\n",
    "        self.rec.recordParcelReturnedFromDelivery(driver, self)\n",
    "    "
   ]
  },
  {
   "cell_type": "markdown",
   "metadata": {},
   "source": [
    "### Class Driver"
   ]
  },
  {
   "cell_type": "markdown",
   "metadata": {},
   "source": [
    "<img src='img/EventGraph Driver.png' width=500/>"
   ]
  },
  {
   "cell_type": "code",
   "execution_count": 56,
   "metadata": {},
   "outputs": [],
   "source": [
    "class Driver:\n",
    "    \n",
    "    def __init__(self, rec, id, DC):\n",
    "        self.rec = rec\n",
    "        self.id = id\n",
    "        self.DC = DC\n",
    "        self.location = None\n",
    "        self.parcels = None\n",
    "        self.returns = None\n",
    "        self.tour = None\n",
    "        self.rec.env.process(self.process())\n",
    "        \n",
    "    # activity\n",
    "    def __drive(self, target):\n",
    "        assert(self.tour[0] == self.location)\n",
    "        while self.location!=target:\n",
    "            d = dist(self.location, self.tour[1])\n",
    "            yield self.rec.env.timeout(d / AVG_SPEED)\n",
    "            self.location = self.tour[1]\n",
    "            self.tour = self.tour[1:]\n",
    "        assert(self.tour[0] == self.location == target)\n",
    "    \n",
    "    def arriveForWork(self):\n",
    "        self.location = self.DC.W\n",
    "        self.parcels = []\n",
    "        self.returns = []\n",
    "        self.tour = [ self.DC.W ]\n",
    "        # self.rec.trace(\"arrives for work\", self)\n",
    "        self.rec.recordDriverBeginsWork(self)\n",
    "    \n",
    "    def goesHome(self):\n",
    "        self.location = None\n",
    "        self.parcels = None\n",
    "        self.returns = None\n",
    "        self.tour = None\n",
    "        # self.rec.trace(\"goes home\", self)\n",
    "        self.rec.recordDriverEndsWork(self)\n",
    "        \n",
    "    def leaveForDelivery(self, tour, parcels, addresses):\n",
    "        self.tour, self.parcels = tour, parcels\n",
    "        self.rec.trace(f\"leaves for delivery \" \n",
    "                       f\"of {len(parcels):d} parcels \"\n",
    "                       f\"to {len(addresses):d} customers\", self)\n",
    "        self.rec.trace(f\"Length of delivery tour: {pathLength(tour):,d}m\", self)\n",
    "        if self.rec.plot:\n",
    "            plotMap(self.rec.Maps[self.id], frame=self.rec.M,\n",
    "                    T=addresses, P=tour, w=tour[0], \n",
    "                    text=f\"Day {day(self.rec.env.now):d} D{self.id:d}: {pathLength(tour):,d}m\")\n",
    "        \n",
    "    def process(self):\n",
    "        yield self.rec.env.timeout(nextHour(self.rec.env, 18))\n",
    "        while day(self.rec.env.now)<self.rec.days:\n",
    "            self.arriveForWork()\n",
    "\n",
    "            ## chnge to deal with time limit\n",
    "            startTime = self.rec.env.now \n",
    "            \n",
    "            tour, parcels, addresses = self.DC.sendForDelivery(self)\n",
    "            if len(parcels)==0: \n",
    "                self.rec.trace(\"Nothing to do today\", self)\n",
    "                self.rec.recordTourLength(self, 0)\n",
    "            else:\n",
    "                yield self.rec.env.timeout(PREP_TIME_PER_PARCEL*len(parcels))\n",
    "                self.rec.recordTourLength(self, pathLength(tour))\n",
    "                self.leaveForDelivery(tour, parcels, addresses)        \n",
    "                while len(self.parcels)>0:\n",
    "\n",
    "                    ## change to deal with time limit\n",
    "                    currentTime = self.rec.env.now\n",
    "                    if currentTime-startTime>=self.DC.timeLimit:\n",
    "                        self.rec.trace(\"Timelimit reached\", self)\n",
    "                        while len(self.parcels)>0:\n",
    "                            self.returns += [self.parcels[0]]\n",
    "                            self.parcels = self.parcels[1:]\n",
    "                        break\n",
    "                        \n",
    "                    # drive to customer\n",
    "                    custLocation = self.parcels[0].destination()\n",
    "                    cust = self.parcels[0].cust\n",
    "                    self.rec.trace(\"drives to \"+str(cust), self)\n",
    "                    yield from self.__drive(custLocation)\n",
    "                    self.rec.trace(\"arrived at \"+str(cust), self)\n",
    "                    # call at customer\n",
    "                    yield from cust.answerDoor(self)\n",
    "                    \n",
    "                    if cust.answersDoor:\n",
    "                        while len(self.parcels)>0 and \\\n",
    "                                custLocation == self.parcels[0].destination():\n",
    "                            cust.acceptParcel(self, self.parcels[0])\n",
    "                            yield self.rec.env.timeout(random.expovariate(1/AVG_TIME_HANDOVER))\n",
    "                            self.parcels = self.parcels[1:]\n",
    "                        cust.signOff(self)\n",
    "                        yield self.rec.env.timeout(random.expovariate(1/AVG_TIME_SIGNOFF))\n",
    "                    else:\n",
    "                        while len(self.parcels)>0 and  \\\n",
    "                                custLocation == self.parcels[0].destination():\n",
    "                            self.returns += [self.parcels[0]]\n",
    "                            self.parcels = self.parcels[1:]\n",
    "\n",
    "                # return to delivery centre\n",
    "                self.rec.trace(\"returns to delivery centre\", self)\n",
    "                yield from self.__drive(self.DC.W)\n",
    "                self.rec.trace(\"arrived at delivery centre\", self)\n",
    "\n",
    "                for parcel in self.returns:\n",
    "                    self.DC.returnFromDelivery(self, parcel)\n",
    "                    yield self.rec.env.timeout(RETURN_TIME_PER_PARCEL)\n",
    "                            \n",
    "            self.rec.recordParcelsLeftOver(self,\n",
    "                                           len(self.returns)+\n",
    "                                           len(self.DC.leftOver[self.id]))\n",
    "            \n",
    "            yield self.rec.env.timeout(DAY_END_PROCEDURE)\n",
    "\n",
    "            self.goesHome()\n",
    "            \n",
    "            yield self.rec.env.timeout(nextHour(self.rec.env, 18))"
   ]
  },
  {
   "cell_type": "markdown",
   "metadata": {},
   "source": [
    "### Class Delivery Centre"
   ]
  },
  {
   "cell_type": "markdown",
   "metadata": {},
   "source": [
    "<img src=\"img/EventGraph Delivery Centre.png\" width=300/>"
   ]
  },
  {
   "cell_type": "code",
   "execution_count": 57,
   "metadata": {},
   "outputs": [],
   "source": [
    "class DeliveryCentre:\n",
    "    \n",
    "    def __init__(self, rec, M, W, C, D, Plan,\n",
    "                 limit, timeLimit):\n",
    "        self.rec = rec\n",
    "        self.M = M\n",
    "        self.W = W\n",
    "        self.C = C\n",
    "        self.D = D\n",
    "        self.MM, self.LL, self.CC = Plan\n",
    "        \n",
    "        self.limit = limit\n",
    "        self.timeLimit = timeLimit\n",
    "\n",
    "        self.overhang = []   # list of parcels to be delivered next day\n",
    "\n",
    "        # generate and initialise all customers\n",
    "        # allows mapping from custId to Customer object\n",
    "        self.customers = [ Customer(rec, i, C[i]) for i in range(len(C)) ]\n",
    "        \n",
    "        # generate and initialise all drivers\n",
    "        self.drivers = [ Driver(rec, i, self) for i in range(len(self.MM)) ]\n",
    "\n",
    "        self.PARCELS = []    # registry of all the parcels processed\n",
    "        \n",
    "        rec.env.process(self.process())\n",
    "        \n",
    "    def __accept(self, d, parcel):\n",
    "        custLoc = parcel.destination()\n",
    "        \n",
    "        assert(0<=d<len(self.MM))\n",
    "        \n",
    "        ## chnge to deal with time limit estimate\n",
    "        timeEstimate = \\\n",
    "            len(self.parcels[d])*(PREP_TIME_PER_PARCEL + AVG_TIME_HANDOVER) \\\n",
    "            + len(self.dest[d])*(AVG_TIME_ANSWER_DOOR + AVG_TIME_SIGNOFF)\n",
    "        \n",
    "        if custLoc not in self.dest[d]:\n",
    "\n",
    "            targets = [self.W] + self.dest[d] + [custLoc]\n",
    "\n",
    "            if self.rec.plot:\n",
    "                plotMap(self.MM[d], T=targets,  w=self.W, frame=self.M, \n",
    "                    size=2, text=f\"Driver {d:d}: accept Parcel\")\n",
    "\n",
    "            MT = addTargets(self.MM[d], targets)\n",
    "            SH = createLoopG(MT, targets)\n",
    "\n",
    "            MT = addTargets(self.MM[d], targets)\n",
    "            path = shortenLoop(self.LL[d], MT, targets)\n",
    "\n",
    "            ## chnge to deal with time limit estimate\n",
    "            if pathLength(SH)<self.limit and \\\n",
    "                timeEstimate + pathLength(SH)/AVG_SPEED + \\\n",
    "                PREP_TIME_PER_PARCEL + AVG_TIME_ANSWER_DOOR + \\\n",
    "                AVG_TIME_HANDOVER + AVG_TIME_SIGNOFF <= self.timeLimit:\n",
    "            \n",
    "                self.parcels[d].append(parcel)\n",
    "                self.dest[d] += [custLoc]\n",
    "                self.tour[d] = SH\n",
    "            else: \n",
    "                self.leftOver[d].append(parcel)\n",
    "\n",
    "            ## chnge to deal with time limit estimate\n",
    "        elif timeEstimate + pathLength(self.tour[d])/AVG_SPEED + \\\n",
    "                PREP_TIME_PER_PARCEL + AVG_TIME_HANDOVER <= self.timeLimit:\n",
    "            self.parcels[d].append(parcel)\n",
    "        else:\n",
    "            self.leftOver[d].append(parcel)\n",
    "        \n",
    "    def sendForDelivery(self, driver):\n",
    "        d = driver.id\n",
    "        parcels = []\n",
    "        tour = self.tour[d]\n",
    "        addresses = []\n",
    "        \n",
    "        # pick parcels in sequence to be delivered\n",
    "        for i in range(1, len(tour)-1):\n",
    "            dest = tour[i]\n",
    "            for p in self.parcels[d]:\n",
    "                if p.destination() == dest and p not in parcels:\n",
    "                    parcels += [p]\n",
    "                    p.outForDelivery(driver)\n",
    "                    if dest not in addresses:\n",
    "                        addresses += [dest]\n",
    "         \n",
    "        # what cant go out goes straigt for next day\n",
    "        for p in self.leftOver[d]:\n",
    "            self.overhang.append(p)\n",
    "            \n",
    "        return tour, parcels, addresses\n",
    "                 \n",
    "    def returnFromDelivery(self, driver, parcel):\n",
    "        parcel.returnFromDelivery(driver)\n",
    "        self.overhang.append(parcel)\n",
    "        \n",
    "    def getInventory(self):\n",
    "        return len(self.overhang)\n",
    "        \n",
    "    def process(self):\n",
    "        regions = getRegions(self.CC, self.C)\n",
    "        for day in range(len(self.D)):\n",
    "            yield self.rec.env.timeout(nextHour(self.rec.env, 17.00))\n",
    "            # make plan how to split workload for the day\n",
    "\n",
    "            # initialise the workload for all drivers\n",
    "            self.leftOver = [ [] for driver in self.drivers ]   # list of parcels that can't go out today\n",
    "            self.parcels = [ [] for driver in self.drivers ]    # list of parcels scheduled for delivery\n",
    "            self.dest = [ [] for driver in self.drivers ]       # list of unique customer destinations\n",
    "            self.tour = [ [self.W] for driver in self.drivers ] # tour planned for delivery\n",
    "            \n",
    "            # process overhang from previous day (if any)\n",
    "            for p in self.overhang:\n",
    "                driverId = regions[p.cust.id]\n",
    "                self.__accept(driverId, p)\n",
    "            self.overhang = []\n",
    "\n",
    "            # generate the parcels newly arriving this day\n",
    "            for c in self.D[day]:\n",
    "                parcel = Parcel(self.rec, len(self.PARCELS), \n",
    "                                day, self.customers[c])\n",
    "                self.PARCELS.append(parcel)\n",
    "                driverId = regions[c]\n",
    "                parcel.arrivedAtDeliveryCentre(self.drivers[driverId])\n",
    "                self.__accept(driverId, parcel)"
   ]
  },
  {
   "cell_type": "markdown",
   "metadata": {},
   "source": [
    "## Simulation Set Up"
   ]
  },
  {
   "cell_type": "markdown",
   "metadata": {},
   "source": [
    "### Parameters from Specification"
   ]
  },
  {
   "cell_type": "markdown",
   "metadata": {},
   "source": [
    "The hard time limit for the driver. When this time limit is reached\n",
    "on a delivery tour, the driver is supposed to return immediately"
   ]
  },
  {
   "cell_type": "code",
   "execution_count": 58,
   "metadata": {},
   "outputs": [],
   "source": [
    "DELIVERY_TIME_LIMIT = 3*3600 # 3 hours "
   ]
  },
  {
   "cell_type": "markdown",
   "metadata": {},
   "source": [
    "The proportion of customers that for whatever are not at home or return home late"
   ]
  },
  {
   "cell_type": "code",
   "execution_count": 59,
   "metadata": {},
   "outputs": [],
   "source": [
    "CUSTOMER_NOT_AT_HOME = 0.1  # 10%"
   ]
  },
  {
   "cell_type": "markdown",
   "metadata": {},
   "source": [
    "The maximum bike range. This is passed as parameter to the Delivery Centre\n",
    "and taken into account for the daily tour planning"
   ]
  },
  {
   "cell_type": "code",
   "execution_count": 60,
   "metadata": {},
   "outputs": [],
   "source": [
    "BIKE_RANGE = 40000"
   ]
  },
  {
   "cell_type": "markdown",
   "metadata": {},
   "source": [
    "The time required for driving is based on the distance between way points at an average speed of 15km/h."
   ]
  },
  {
   "cell_type": "code",
   "execution_count": 61,
   "metadata": {},
   "outputs": [],
   "source": [
    "AVG_SPEED = 15/3.6"
   ]
  },
  {
   "cell_type": "markdown",
   "metadata": {},
   "source": [
    "The **cumulative preparation time** (route planning and \n",
    "sorting of the parcels in the delivery order and \n",
    "packing the cargo-bike) is assumed to be 50 sec per \n",
    "parcel to be delivered."
   ]
  },
  {
   "cell_type": "code",
   "execution_count": 62,
   "metadata": {},
   "outputs": [],
   "source": [
    "PREP_TIME_PER_PARCEL = 50"
   ]
  },
  {
   "cell_type": "markdown",
   "metadata": {},
   "source": [
    "**Additional assumption:** The time to **process returned parcels** in the delivery centre is 30 sec per parce. "
   ]
  },
  {
   "cell_type": "code",
   "execution_count": 63,
   "metadata": {},
   "outputs": [],
   "source": [
    "RETURN_TIME_PER_PARCEL = 30"
   ]
  },
  {
   "cell_type": "markdown",
   "metadata": {},
   "source": [
    "The average time to answer the door."
   ]
  },
  {
   "cell_type": "code",
   "execution_count": 64,
   "metadata": {},
   "outputs": [],
   "source": [
    "AVG_TIME_ANSWER_DOOR = 40"
   ]
  },
  {
   "cell_type": "code",
   "execution_count": 65,
   "metadata": {},
   "outputs": [],
   "source": [
    "WAIT_TIME_IF_CUSTOMER_DOESNT_ANSWER_DOOR = 60"
   ]
  },
  {
   "cell_type": "code",
   "execution_count": 66,
   "metadata": {},
   "outputs": [],
   "source": [
    "AVG_TIME_HANDOVER = 10\n",
    "AVG_TIME_SIGNOFF = 10"
   ]
  },
  {
   "cell_type": "code",
   "execution_count": 67,
   "metadata": {},
   "outputs": [],
   "source": [
    "DAY_END_PROCEDURE = 600"
   ]
  },
  {
   "cell_type": "markdown",
   "metadata": {},
   "source": [
    "### Generate Input Data"
   ]
  },
  {
   "cell_type": "code",
   "execution_count": 68,
   "metadata": {},
   "outputs": [],
   "source": [
    "def generateDeliveries(p, C, days, seed=0):\n",
    "    ## p is the average number of parcels per day per customer\n",
    "    ## C is the number of customers to be served\n",
    "    ## days is the number of days for which data are to be generated.\n",
    "    random.seed(seed)\n",
    "    deliveries = [ [ ] for _ in range(days) ]\n",
    "    for c in range(C):\n",
    "        arr = 0\n",
    "        while True:\n",
    "            arr += random.expovariate(p)\n",
    "            day = int(arr)\n",
    "            if day>=days:\n",
    "                break\n",
    "            deliveries[day].append(c)\n",
    "    return deliveries "
   ]
  },
  {
   "cell_type": "markdown",
   "metadata": {},
   "source": [
    "### Simulation Routine"
   ]
  },
  {
   "cell_type": "code",
   "execution_count": 69,
   "metadata": {},
   "outputs": [],
   "source": [
    "def simulation(M, W, C, Plan, p=0.2, days=10, seed=0, \n",
    "               log=False, plot=False, timing=False):\n",
    "    \n",
    "    random.seed(seed)\n",
    "    D = generateDeliveries(p, len(C), days, seed)\n",
    "    \n",
    "    env = simpy.Environment()\n",
    "    rec = Recorder(env, M, W, C, D, Plan, days,\n",
    "                   log=log, plot=plot, timing=timing)\n",
    "\n",
    "\n",
    "        \n",
    "    print(f\"Simulating delivery of {sum([len(d) for d in D]):d} parcels \"\n",
    "          f\"over {len(D):d} days to {len(C):d} customers \"\n",
    "          f\"using {rec.drivers:d} drivers\")\n",
    "\n",
    "    # initialise all customer processes\n",
    "    # initialises delivery center and creates all parcels\n",
    "    DC = DeliveryCentre(rec, M, W, C, D, Plan,\n",
    "                        BIKE_RANGE, DELIVERY_TIME_LIMIT)\n",
    "\n",
    "    env.run()\n",
    "    rec.finish()\n",
    "\n",
    "    if DC.getInventory()>0:\n",
    "        print(f\"Delivery Centre Inventory at the end of last day: \"\n",
    "              f\"{DC.getInventory():d} parcels\")\n",
    "    \n",
    "    return rec"
   ]
  },
  {
   "cell_type": "markdown",
   "metadata": {},
   "source": [
    "# Running Simulation Model 1"
   ]
  },
  {
   "cell_type": "markdown",
   "metadata": {},
   "source": [
    "## Importing Data"
   ]
  },
  {
   "cell_type": "code",
   "execution_count": 70,
   "metadata": {},
   "outputs": [],
   "source": [
    "import pickle\n",
    "with open('datafolder/ProjectData.pickled', 'rb') as f:\n",
    "    M, C = pickle.load(f)"
   ]
  },
  {
   "cell_type": "markdown",
   "metadata": {},
   "source": [
    "### Model 1a -  Unfeasible Solution "
   ]
  },
  {
   "cell_type": "code",
   "execution_count": 71,
   "metadata": {},
   "outputs": [
    {
     "name": "stdout",
     "output_type": "stream",
     "text": [
      "Solver time:    0.35s\n",
      "Infeasible\n"
     ]
    }
   ],
   "source": [
    "W = generateWarehouseLocation(M)\n",
    "Infeasible = planCPP(M, W, C, n=1, balance=0.2, timing=True, plot=True,maxLength=40000 )"
   ]
  },
  {
   "cell_type": "markdown",
   "metadata": {},
   "source": [
    "## Generating Warehouse Locations"
   ]
  },
  {
   "cell_type": "code",
   "execution_count": 72,
   "metadata": {},
   "outputs": [
    {
     "data": {
      "image/png": "[encoded data removed]",
      "text/plain": [
       "<Figure size 400x400 with 1 Axes>"
      ]
     },
     "metadata": {},
     "output_type": "display_data"
    }
   ],
   "source": [
    "Warehouses = generateMultipleWarehouseLocations(M)\n",
    "plotMap(M, T=Warehouses, msT=7,labels=True)"
   ]
  },
  {
   "cell_type": "code",
   "execution_count": 73,
   "metadata": {},
   "outputs": [],
   "source": [
    "with open('rec/Model_1/Warehouse=E p=0.25 bal=0.2 days=200.pickled', 'rb') as f:\n",
    "    rec_model1 = pickle.load(f)"
   ]
  },
  {
   "cell_type": "code",
   "execution_count": 74,
   "metadata": {},
   "outputs": [
    {
     "data": {
      "image/png": "[encoded data removed]",
      "text/plain": [
       "<Figure size 600x200 with 1 Axes>"
      ]
     },
     "metadata": {},
     "output_type": "display_data"
    },
    {
     "data": {
      "image/png": "[encoded data removed]",
      "text/plain": [
       "<Figure size 400x250 with 1 Axes>"
      ]
     },
     "metadata": {},
     "output_type": "display_data"
    },
    {
     "data": {
      "image/png": "[encoded data removed]",
      "text/plain": [
       "<Figure size 600x200 with 1 Axes>"
      ]
     },
     "metadata": {},
     "output_type": "display_data"
    },
    {
     "data": {
      "image/png": "[encoded data removed]",
      "text/plain": [
       "<Figure size 400x250 with 1 Axes>"
      ]
     },
     "metadata": {},
     "output_type": "display_data"
    },
    {
     "data": {
      "image/png": "[encoded data removed]",
      "text/plain": [
       "<Figure size 400x250 with 1 Axes>"
      ]
     },
     "metadata": {},
     "output_type": "display_data"
    },
    {
     "data": {
      "image/png": "[encoded data removed]",
      "text/plain": [
       "<Figure size 400x250 with 1 Axes>"
      ]
     },
     "metadata": {},
     "output_type": "display_data"
    },
    {
     "data": {
      "image/png": "[encoded data removed]",
      "text/plain": [
       "<Figure size 600x200 with 1 Axes>"
      ]
     },
     "metadata": {},
     "output_type": "display_data"
    },
    {
     "data": {
      "image/png": "[encoded data removed]",
      "text/plain": [
       "<Figure size 600x400 with 1 Axes>"
      ]
     },
     "metadata": {},
     "output_type": "display_data"
    }
   ],
   "source": [
    "rec_model1.plotWorkingTime()\n",
    "rec_model1.histWorkingTime()\n",
    "rec_model1.plotTourLength()\n",
    "rec_model1.histTourLength()\n",
    "rec_model1.histParcelsArrived()\n",
    "rec_model1.histParcelsDelivered()\n",
    "rec_model1.plotParcelsLeftOver()\n",
    "rec_model1.countPlot()"
   ]
  }
 ],
 "metadata": {
  "kernelspec": {
   "display_name": "Python 3",
   "language": "python",
   "name": "python3"
  },
  "language_info": {
   "codemirror_mode": {
    "name": "ipython",
    "version": 3
   },
   "file_extension": ".py",
   "mimetype": "text/x-python",
   "name": "python",
   "nbconvert_exporter": "python",
   "pygments_lexer": "ipython3",
   "version": "3.12.3"
  }
 },
 "nbformat": 4,
 "nbformat_minor": 2
}
